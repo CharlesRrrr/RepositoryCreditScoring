{
 "cells": [
  {
   "cell_type": "code",
   "execution_count": 1,
   "metadata": {},
   "outputs": [
    {
     "name": "stderr",
     "output_type": "stream",
     "text": [
      "IProgress not found. Please update jupyter and ipywidgets. See https://ipywidgets.readthedocs.io/en/stable/user_install.html\n"
     ]
    }
   ],
   "source": [
    "import numpy as np\n",
    "import pandas as pd\n",
    "import gc\n",
    "import time\n",
    "import pickle\n",
    "\n",
    "from contextlib import contextmanager\n",
    "from lightgbm import LGBMClassifier\n",
    "from sklearn.metrics import roc_auc_score, roc_curve, confusion_matrix, auc\n",
    "from sklearn.model_selection import KFold, StratifiedKFold\n",
    "from sklearn.model_selection import GridSearchCV\n",
    "from sklearn.dummy import DummyClassifier\n",
    "from sklearn.linear_model import LogisticRegression\n",
    "from sklearn.metrics import make_scorer\n",
    "from sklearn.model_selection import ParameterGrid\n",
    "from sklearn.ensemble import RandomForestClassifier\n",
    "\n",
    "from imblearn.over_sampling import SMOTE\n",
    "\n",
    "from sklearn.impute import SimpleImputer\n",
    "from sklearn.pipeline import make_pipeline\n",
    "from sklearn.preprocessing import StandardScaler\n",
    "\n",
    "from sklearn.model_selection import train_test_split\n",
    "import lightgbm as lgb\n",
    "\n",
    "import matplotlib.pyplot as plt\n",
    "import seaborn as sns\n",
    "import warnings\n",
    "import json\n",
    "import re\n",
    "import shap\n",
    "from shap.maskers import Independent"
   ]
  },
  {
   "cell_type": "code",
   "execution_count": 2,
   "metadata": {},
   "outputs": [],
   "source": [
    "# Où sont les fichiers à charger\n",
    "pathProject=\"/Users/anacoluthedev/Dev/Data/home-credit-default-risk/\""
   ]
  },
  {
   "cell_type": "code",
   "execution_count": 3,
   "metadata": {},
   "outputs": [],
   "source": [
    "@contextmanager\n",
    "def timer(title):\n",
    "    t0 = time.time()\n",
    "    yield\n",
    "    print(\"{} - done in {:.0f}s\".format(title, time.time() - t0))"
   ]
  },
  {
   "cell_type": "markdown",
   "metadata": {},
   "source": [
    "# Preprocessing des données\n",
    "### Repris essentiellement du notebook Kaggle"
   ]
  },
  {
   "cell_type": "code",
   "execution_count": 4,
   "metadata": {},
   "outputs": [],
   "source": [
    "# One-hot encoding for categorical columns with get_dummies\n",
    "def one_hot_encoder(df, nan_as_category = True):\n",
    "    original_columns = list(df.columns)\n",
    "    categorical_columns = [col for col in df.columns if df[col].dtype == 'object']\n",
    "    df = pd.get_dummies(df, columns= categorical_columns, dummy_na= nan_as_category)\n",
    "    new_columns = [c for c in df.columns if c not in original_columns]\n",
    "    return df, new_columns"
   ]
  },
  {
   "cell_type": "code",
   "execution_count": 5,
   "metadata": {},
   "outputs": [],
   "source": [
    "# Preprocess application_train.csv and application_test.csv\n",
    "def application_train_test(num_rows = None, nan_as_category = True):\n",
    "    # Read data and merge\n",
    "    df = pd.read_csv(pathProject+'application_train.csv', nrows= num_rows)\n",
    "    test_df = pd.read_csv(pathProject+'application_test.csv', nrows= num_rows)\n",
    "    print(\"Train samples: {}, test samples: {}\".format(len(df), len(test_df)))\n",
    "    # df = df.append(test_df).reset_index()\n",
    "    # code causant l'erreur 'DataFrame' object has no attribute 'append', remplacé, par ces 2 lignes\n",
    "\n",
    "    df = pd.concat([df, test_df])\n",
    "    df = df.reset_index(drop=True)\n",
    "    \n",
    "    # Categorical features: Binary features and One-Hot encoding\n",
    "    for bin_feature in ['CODE_GENDER', 'FLAG_OWN_CAR', 'FLAG_OWN_REALTY']:\n",
    "        df[bin_feature], uniques = pd.factorize(df[bin_feature])\n",
    "    df, cat_cols = one_hot_encoder(df, nan_as_category)\n",
    "    # NaN values for DAYS_EMPLOYED: 365.243 -> nan\n",
    "    df['DAYS_EMPLOYED'].replace(365243, np.nan, inplace= True)\n",
    "    # Some simple new features (percentages)\n",
    "    df['DAYS_EMPLOYED_PERC'] = df['DAYS_EMPLOYED'] / df['DAYS_BIRTH']\n",
    "    df['INCOME_CREDIT_PERC'] = df['AMT_INCOME_TOTAL'] / df['AMT_CREDIT']\n",
    "    df['INCOME_PER_PERSON'] = df['AMT_INCOME_TOTAL'] / df['CNT_FAM_MEMBERS']\n",
    "    df['ANNUITY_INCOME_PERC'] = df['AMT_ANNUITY'] / df['AMT_INCOME_TOTAL']\n",
    "    del test_df\n",
    "    gc.collect()\n",
    "    return df"
   ]
  },
  {
   "cell_type": "code",
   "execution_count": 6,
   "metadata": {},
   "outputs": [],
   "source": [
    "# Preprocess bureau.csv and bureau_balance.csv\n",
    "def bureau_and_balance(num_rows = None, nan_as_category = True):\n",
    "    bureau = pd.read_csv(pathProject+'bureau.csv', nrows = num_rows)\n",
    "    bb = pd.read_csv(pathProject+'bureau_balance.csv', nrows = num_rows)\n",
    "    bb, bb_cat = one_hot_encoder(bb, nan_as_category)\n",
    "    bureau, bureau_cat = one_hot_encoder(bureau, nan_as_category)\n",
    "    \n",
    "    # Bureau balance: Perform aggregations and merge with bureau.csv\n",
    "    bb_aggregations = {'MONTHS_BALANCE': ['min', 'max', 'size']}\n",
    "    for col in bb_cat:\n",
    "        bb_aggregations[col] = ['mean']\n",
    "    bb_agg = bb.groupby('SK_ID_BUREAU').agg(bb_aggregations)\n",
    "    bb_agg.columns = pd.Index([e[0] + \"_\" + e[1].upper() for e in bb_agg.columns.tolist()])\n",
    "    bureau = bureau.join(bb_agg, how='left', on='SK_ID_BUREAU')\n",
    "    bureau.drop(columns= 'SK_ID_BUREAU', inplace= True)\n",
    "    del bb, bb_agg\n",
    "    gc.collect()\n",
    "    \n",
    "    # Bureau and bureau_balance numeric features\n",
    "    num_aggregations = {\n",
    "        'DAYS_CREDIT': ['min', 'max', 'mean', 'var'],\n",
    "        'CREDIT_DAY_OVERDUE': ['max', 'mean'],\n",
    "        'DAYS_CREDIT_ENDDATE': ['min', 'max', 'mean'],\n",
    "        'AMT_CREDIT_MAX_OVERDUE': ['mean'],\n",
    "        'CNT_CREDIT_PROLONG': ['sum'],\n",
    "        'AMT_CREDIT_SUM': ['max', 'mean', 'sum'],\n",
    "        'AMT_CREDIT_SUM_DEBT': ['max', 'mean', 'sum'],\n",
    "        'AMT_CREDIT_SUM_OVERDUE': ['mean'],\n",
    "        'AMT_CREDIT_SUM_LIMIT': ['mean', 'sum'],\n",
    "        'DAYS_CREDIT_UPDATE': ['min', 'max', 'mean'],\n",
    "        'AMT_ANNUITY': ['max', 'mean'],\n",
    "        'MONTHS_BALANCE_MIN': ['min'],\n",
    "        'MONTHS_BALANCE_MAX': ['max'],\n",
    "        'MONTHS_BALANCE_SIZE': ['mean', 'sum']\n",
    "    }\n",
    "    # Bureau and bureau_balance categorical features\n",
    "    cat_aggregations = {}\n",
    "    for cat in bureau_cat: cat_aggregations[cat] = ['mean']\n",
    "    for cat in bb_cat: cat_aggregations[cat + \"_MEAN\"] = ['mean']\n",
    "    \n",
    "    bureau_agg = bureau.groupby('SK_ID_CURR').agg({**num_aggregations, **cat_aggregations})\n",
    "    bureau_agg.columns = pd.Index(['BURO_' + e[0] + \"_\" + e[1].upper() for e in bureau_agg.columns.tolist()])\n",
    "    # Bureau: Active credits - using only numerical aggregations\n",
    "    active = bureau[bureau['CREDIT_ACTIVE_Active'] == 1]\n",
    "    active_agg = active.groupby('SK_ID_CURR').agg(num_aggregations)\n",
    "    active_agg.columns = pd.Index(['ACT_' + e[0] + \"_\" + e[1].upper() for e in active_agg.columns.tolist()])\n",
    "    bureau_agg = bureau_agg.join(active_agg, how='left', on='SK_ID_CURR')\n",
    "    del active, active_agg\n",
    "    gc.collect()\n",
    "    # Bureau: Closed credits - using only numerical aggregations\n",
    "    closed = bureau[bureau['CREDIT_ACTIVE_Closed'] == 1]\n",
    "    closed_agg = closed.groupby('SK_ID_CURR').agg(num_aggregations)\n",
    "    closed_agg.columns = pd.Index(['CLS_' + e[0] + \"_\" + e[1].upper() for e in closed_agg.columns.tolist()])\n",
    "    bureau_agg = bureau_agg.join(closed_agg, how='left', on='SK_ID_CURR')\n",
    "    del closed, closed_agg, bureau\n",
    "    gc.collect()\n",
    "    return bureau_agg"
   ]
  },
  {
   "cell_type": "code",
   "execution_count": 7,
   "metadata": {},
   "outputs": [],
   "source": [
    "# Preprocess previous_applications.csv\n",
    "def previous_applications(num_rows = None, nan_as_category = True):\n",
    "    prev = pd.read_csv(pathProject+'previous_application.csv', nrows = num_rows)\n",
    "    prev, cat_cols = one_hot_encoder(prev, nan_as_category= True)\n",
    "    # Days 365.243 values -> nan\n",
    "    prev['DAYS_FIRST_DRAWING'].replace(365243, np.nan, inplace= True)\n",
    "    prev['DAYS_FIRST_DUE'].replace(365243, np.nan, inplace= True)\n",
    "    prev['DAYS_LAST_DUE_1ST_VERSION'].replace(365243, np.nan, inplace= True)\n",
    "    prev['DAYS_LAST_DUE'].replace(365243, np.nan, inplace= True)\n",
    "    prev['DAYS_TERMINATION'].replace(365243, np.nan, inplace= True)\n",
    "    # Add feature: value ask / value received percentage\n",
    "    prev['APP_CREDIT_PERC'] = prev['AMT_APPLICATION'] / prev['AMT_CREDIT']\n",
    "    # Previous applications numeric features\n",
    "    num_aggregations = {\n",
    "        'AMT_ANNUITY': ['min', 'max', 'mean'],\n",
    "        'AMT_APPLICATION': ['min', 'max', 'mean'],\n",
    "        'AMT_CREDIT': ['min', 'max', 'mean'],\n",
    "        'APP_CREDIT_PERC': ['min', 'max', 'mean', 'var'],\n",
    "        'AMT_DOWN_PAYMENT': ['min', 'max', 'mean'],\n",
    "        'AMT_GOODS_PRICE': ['min', 'max', 'mean'],\n",
    "        'HOUR_APPR_PROCESS_START': ['min', 'max', 'mean'],\n",
    "        'RATE_DOWN_PAYMENT': ['min', 'max', 'mean'],\n",
    "        'DAYS_DECISION': ['min', 'max', 'mean'],\n",
    "        'CNT_PAYMENT': ['mean', 'sum'],\n",
    "    }\n",
    "    # Previous applications categorical features\n",
    "    cat_aggregations = {}\n",
    "    for cat in cat_cols:\n",
    "        cat_aggregations[cat] = ['mean']\n",
    "    \n",
    "    prev_agg = prev.groupby('SK_ID_CURR').agg({**num_aggregations, **cat_aggregations})\n",
    "    prev_agg.columns = pd.Index(['PREV_' + e[0] + \"_\" + e[1].upper() for e in prev_agg.columns.tolist()])\n",
    "    # Previous Applications: Approved Applications - only numerical features\n",
    "    approved = prev[prev['NAME_CONTRACT_STATUS_Approved'] == 1]\n",
    "    approved_agg = approved.groupby('SK_ID_CURR').agg(num_aggregations)\n",
    "    approved_agg.columns = pd.Index(['APR_' + e[0] + \"_\" + e[1].upper() for e in approved_agg.columns.tolist()])\n",
    "    prev_agg = prev_agg.join(approved_agg, how='left', on='SK_ID_CURR')\n",
    "    # Previous Applications: Refused Applications - only numerical features\n",
    "    refused = prev[prev['NAME_CONTRACT_STATUS_Refused'] == 1]\n",
    "    refused_agg = refused.groupby('SK_ID_CURR').agg(num_aggregations)\n",
    "    refused_agg.columns = pd.Index(['REF_' + e[0] + \"_\" + e[1].upper() for e in refused_agg.columns.tolist()])\n",
    "    prev_agg = prev_agg.join(refused_agg, how='left', on='SK_ID_CURR')\n",
    "    del refused, refused_agg, approved, approved_agg, prev\n",
    "    gc.collect()\n",
    "    return prev_agg"
   ]
  },
  {
   "cell_type": "code",
   "execution_count": 8,
   "metadata": {},
   "outputs": [],
   "source": [
    "# Preprocess POS_CASH_balance.csv\n",
    "def pos_cash(num_rows = None, nan_as_category = True):\n",
    "    pos = pd.read_csv(pathProject+'POS_CASH_balance.csv', nrows = num_rows)\n",
    "    pos, cat_cols = one_hot_encoder(pos, nan_as_category= True)\n",
    "    # Features\n",
    "    aggregations = {\n",
    "        'MONTHS_BALANCE': ['max', 'mean', 'size'],\n",
    "        'SK_DPD': ['max', 'mean'],\n",
    "        'SK_DPD_DEF': ['max', 'mean']\n",
    "    }\n",
    "    for cat in cat_cols:\n",
    "        aggregations[cat] = ['mean']\n",
    "    \n",
    "    pos_agg = pos.groupby('SK_ID_CURR').agg(aggregations)\n",
    "    pos_agg.columns = pd.Index(['POS_' + e[0] + \"_\" + e[1].upper() for e in pos_agg.columns.tolist()])\n",
    "    # Count pos cash accounts\n",
    "    pos_agg['POS_COUNT'] = pos.groupby('SK_ID_CURR').size()\n",
    "    del pos\n",
    "    gc.collect()\n",
    "    return pos_agg"
   ]
  },
  {
   "cell_type": "code",
   "execution_count": 9,
   "metadata": {},
   "outputs": [],
   "source": [
    "# Preprocess bureau.csv and bureau_balance.csv\n",
    "def bureau_and_balance(num_rows = None, nan_as_category = True):\n",
    "    bureau = pd.read_csv(pathProject+'bureau.csv', nrows = num_rows)\n",
    "    bb = pd.read_csv(pathProject+'bureau_balance.csv', nrows = num_rows)\n",
    "    bb, bb_cat = one_hot_encoder(bb, nan_as_category)\n",
    "    bureau, bureau_cat = one_hot_encoder(bureau, nan_as_category)\n",
    "\n",
    "   #df[\"NOM COLONNE\"] = pd.to_numeric(df['NOM COLONNE'])\n",
    "\n",
    "\n",
    "    \n",
    "    # Bureau balance: Perform aggregations and merge with bureau.csv\n",
    "    bb_aggregations = {'MONTHS_BALANCE': ['min', 'max', 'size']}\n",
    "    for col in bb_cat:\n",
    "        bb_aggregations[col] = ['mean']\n",
    "    bb_agg = bb.groupby('SK_ID_BUREAU').agg(bb_aggregations)\n",
    "    bb_agg.columns = pd.Index([e[0] + \"_\" + e[1].upper() for e in bb_agg.columns.tolist()])\n",
    "    bureau = bureau.join(bb_agg, how='left', on='SK_ID_BUREAU')\n",
    "    bureau.drop(columns= 'SK_ID_BUREAU', inplace= True)\n",
    "    del bb, bb_agg\n",
    "    gc.collect()\n",
    "    \n",
    "    # Bureau and bureau_balance numeric features\n",
    "    num_aggregations = {\n",
    "        'DAYS_CREDIT': ['min', 'max', 'mean', 'var'],\n",
    "        'CREDIT_DAY_OVERDUE': ['max', 'mean'],\n",
    "        'DAYS_CREDIT_ENDDATE': ['min', 'max', 'mean'],\n",
    "        'AMT_CREDIT_MAX_OVERDUE': ['mean'],\n",
    "        'CNT_CREDIT_PROLONG': ['sum'],\n",
    "        'AMT_CREDIT_SUM': ['max', 'mean', 'sum'],\n",
    "        'AMT_CREDIT_SUM_DEBT': ['max', 'mean', 'sum'],\n",
    "        'AMT_CREDIT_SUM_OVERDUE': ['mean'],\n",
    "        'AMT_CREDIT_SUM_LIMIT': ['mean', 'sum'],\n",
    "        'DAYS_CREDIT_UPDATE': ['min', 'max', 'mean'],\n",
    "        'AMT_ANNUITY': ['max', 'mean'],\n",
    "        'MONTHS_BALANCE_MIN': ['min'],\n",
    "        'MONTHS_BALANCE_MAX': ['max'],\n",
    "        'MONTHS_BALANCE_SIZE': ['mean', 'sum']\n",
    "    }\n",
    "    # Bureau and bureau_balance categorical features\n",
    "    cat_aggregations = {}\n",
    "    for cat in bureau_cat: cat_aggregations[cat] = ['mean']\n",
    "    for cat in bb_cat: cat_aggregations[cat + \"_MEAN\"] = ['mean']\n",
    "    \n",
    "    bureau_agg = bureau.groupby('SK_ID_CURR').agg({**num_aggregations, **cat_aggregations})\n",
    "    bureau_agg.columns = pd.Index(['BURO_' + e[0] + \"_\" + e[1].upper() for e in bureau_agg.columns.tolist()])\n",
    "    # Bureau: Active credits - using only numerical aggregations\n",
    "    active = bureau[bureau['CREDIT_ACTIVE_Active'] == 1]\n",
    "    active_agg = active.groupby('SK_ID_CURR').agg(num_aggregations)\n",
    "    active_agg.columns = pd.Index(['ACT_' + e[0] + \"_\" + e[1].upper() for e in active_agg.columns.tolist()])\n",
    "    bureau_agg = bureau_agg.join(active_agg, how='left', on='SK_ID_CURR')\n",
    "    del active, active_agg\n",
    "    gc.collect()\n",
    "    # Bureau: Closed credits - using only numerical aggregations\n",
    "    closed = bureau[bureau['CREDIT_ACTIVE_Closed'] == 1]\n",
    "    closed_agg = closed.groupby('SK_ID_CURR').agg(num_aggregations)\n",
    "    closed_agg.columns = pd.Index(['CLS_' + e[0] + \"_\" + e[1].upper() for e in closed_agg.columns.tolist()])\n",
    "    bureau_agg = bureau_agg.join(closed_agg, how='left', on='SK_ID_CURR')\n",
    "    del closed, closed_agg, bureau\n",
    "    gc.collect()\n",
    "    return bureau_agg"
   ]
  },
  {
   "cell_type": "code",
   "execution_count": 10,
   "metadata": {},
   "outputs": [],
   "source": [
    "# Preprocess installments_payments.csv\n",
    "def installments_payments(num_rows = None, nan_as_category = True):\n",
    "    ins = pd.read_csv(pathProject+'installments_payments.csv', nrows = num_rows)\n",
    "    ins, cat_cols = one_hot_encoder(ins, nan_as_category= True)\n",
    "    # Percentage and difference paid in each installment (amount paid and installment value)\n",
    "    ins['PAYMENT_PERC'] = ins['AMT_PAYMENT'] / ins['AMT_INSTALMENT']\n",
    "    ins['PAYMENT_DIFF'] = ins['AMT_INSTALMENT'] - ins['AMT_PAYMENT']\n",
    "    # Days past due and days before due (no negative values)\n",
    "    ins['DPD'] = ins['DAYS_ENTRY_PAYMENT'] - ins['DAYS_INSTALMENT']\n",
    "    ins['DBD'] = ins['DAYS_INSTALMENT'] - ins['DAYS_ENTRY_PAYMENT']\n",
    "    ins['DPD'] = ins['DPD'].apply(lambda x: x if x > 0 else 0)\n",
    "    ins['DBD'] = ins['DBD'].apply(lambda x: x if x > 0 else 0)\n",
    "    # Features: Perform aggregations\n",
    "    aggregations = {\n",
    "        'NUM_INSTALMENT_VERSION': ['nunique'],\n",
    "        'DPD': ['max', 'mean', 'sum'],\n",
    "        'DBD': ['max', 'mean', 'sum'],\n",
    "        'PAYMENT_PERC': ['max', 'mean', 'sum', 'var'],\n",
    "        'PAYMENT_DIFF': ['max', 'mean', 'sum', 'var'],\n",
    "        'AMT_INSTALMENT': ['max', 'mean', 'sum'],\n",
    "        'AMT_PAYMENT': ['min', 'max', 'mean', 'sum'],\n",
    "        'DAYS_ENTRY_PAYMENT': ['max', 'mean', 'sum']\n",
    "    }\n",
    "    for cat in cat_cols:\n",
    "        aggregations[cat] = ['mean']\n",
    "    ins_agg = ins.groupby('SK_ID_CURR').agg(aggregations)\n",
    "    ins_agg.columns = pd.Index(['INS_' + e[0] + \"_\" + e[1].upper() for e in ins_agg.columns.tolist()])\n",
    "    # Count installments accounts\n",
    "    ins_agg['INS_COUNT'] = ins.groupby('SK_ID_CURR').size()\n",
    "    del ins\n",
    "    gc.collect()\n",
    "    return ins_agg"
   ]
  },
  {
   "cell_type": "code",
   "execution_count": 11,
   "metadata": {},
   "outputs": [],
   "source": [
    "# Preprocess credit_card_balance.csv\n",
    "def credit_card_balance(num_rows = None, nan_as_category = True):\n",
    "    cc = pd.read_csv(pathProject+'credit_card_balance.csv', nrows = num_rows)\n",
    "    cc, cat_cols = one_hot_encoder(cc, nan_as_category= True)\n",
    "    # General aggregations\n",
    "    cc.drop(columns = ['SK_ID_PREV'], inplace = True)\n",
    "    cc_agg = cc.groupby('SK_ID_CURR').agg(['min', 'max', 'mean', 'sum', 'var'])\n",
    "    cc_agg.columns = pd.Index(['CC_' + e[0] + \"_\" + e[1].upper() for e in cc_agg.columns.tolist()])\n",
    "    # Count credit card lines\n",
    "    cc_agg['CC_COUNT'] = cc.groupby('SK_ID_CURR').size()\n",
    "    del cc\n",
    "\n",
    "    gc.collect()\n",
    "    return cc_agg"
   ]
  },
  {
   "cell_type": "markdown",
   "metadata": {},
   "source": [
    "### La fonction du modèle de prédiction Kaggle est trop longue, son appel est mis en commentaire / désactivé ci-dessous"
   ]
  },
  {
   "cell_type": "code",
   "execution_count": 12,
   "metadata": {},
   "outputs": [],
   "source": [
    "# LightGBM GBDT with KFold or Stratified KFold\n",
    "# Parameters from Tilii kernel: https://www.kaggle.com/tilii7/olivier-lightgbm-parameters-by-bayesian-opt/code\n",
    "def kfold_lightgbm(df, num_folds, stratified = False):\n",
    "    # Divide in training/validation and test data\n",
    "    train_df = df[df['TARGET'].notnull()]\n",
    "    test_df = df[df['TARGET'].isnull()]\n",
    "    print(\"Starting LightGBM. Train shape: {}, test shape: {}\".format(train_df.shape, test_df.shape))\n",
    "    del df\n",
    "    gc.collect()\n",
    "    # Cross validation model\n",
    "    if stratified:\n",
    "        folds = StratifiedKFold(n_splits= num_folds, shuffle=True, random_state=1001)\n",
    "    else:\n",
    "        folds = KFold(n_splits= num_folds, shuffle=True, random_state=1001)\n",
    "    # Create arrays and dataframes to store results\n",
    "    oof_preds = np.zeros(train_df.shape[0])\n",
    "    sub_preds = np.zeros(test_df.shape[0])\n",
    "    feature_importance_df = pd.DataFrame()\n",
    "    feats = [f for f in train_df.columns if f not in ['TARGET','SK_ID_CURR','SK_ID_BUREAU','SK_ID_PREV']]\n",
    "    \n",
    "    for n_fold, (train_idx, valid_idx) in enumerate(folds.split(train_df[feats], train_df['TARGET'])):\n",
    "        train_x, train_y = train_df[feats].iloc[train_idx], train_df['TARGET'].iloc[train_idx]\n",
    "        valid_x, valid_y = train_df[feats].iloc[valid_idx], train_df['TARGET'].iloc[valid_idx]\n",
    "\n",
    "        # LightGBM parameters found by Bayesian optimization\n",
    "        clf = LGBMClassifier(\n",
    "            nthread=4,\n",
    "            n_estimators=10000,\n",
    "            learning_rate=0.02,\n",
    "            num_leaves=34,\n",
    "            colsample_bytree=0.9497036,\n",
    "            subsample=0.8715623,\n",
    "            max_depth=8,\n",
    "            reg_alpha=0.041545473,\n",
    "            reg_lambda=0.0735294,\n",
    "            min_split_gain=0.0222415,\n",
    "            min_child_weight=39.3259775,\n",
    "            silent=-1 )\n",
    "\n",
    "        # Early stopping parameters\n",
    "        early_stopping_rounds = 10\n",
    "        best_auc = 0\n",
    "        best_iteration = 0\n",
    "        no_improvement = 0\n",
    "\n",
    "\n",
    "\n",
    "        # Manually implementing early stopping\n",
    "        for i in range(10000):  # assuming max iterations as 10000\n",
    "            # Perform one iteration of training\n",
    "            clf.n_estimators = i + 1\n",
    "            clf.fit(train_x, train_y, eval_set=[(valid_x, valid_y)])\n",
    "\n",
    "            # Evaluate AUC on validation set\n",
    "            valid_pred = clf.predict_proba(valid_x)[:, 1]\n",
    "            current_auc = roc_auc_score(valid_y, valid_pred)\n",
    "\n",
    "            # Check for improvement\n",
    "            if current_auc > best_auc:\n",
    "                best_auc = current_auc\n",
    "                best_iteration = i + 1\n",
    "                no_improvement = 0\n",
    "            else:\n",
    "                no_improvement += 1\n",
    "\n",
    "            # Break the loop if no improvement in 'early_stopping_rounds' iterations\n",
    "            if no_improvement >= early_stopping_rounds:\n",
    "                print(f\"Early stopping: Stopping training at iteration {i+1}\")\n",
    "            break\n",
    "\n",
    "        # Refit the model with the best iteration\n",
    "        clf.n_estimators = best_iteration\n",
    "        clf.fit(train_x, train_y, eval_set=[(valid_x, valid_y)])\n",
    "\n",
    "\n",
    "        model = clf.fit(train_x, train_y, eval_set=[(valid_x, valid_y)])\n",
    "\n",
    "        clf.fit(train_x, train_y, eval_set=[(train_x, train_y), (valid_x, valid_y)], \n",
    "            eval_metric= 'auc')\n",
    "\n",
    "        # Erreur avec Early stopping\n",
    "        #clf.fit(train_x, train_y, eval_set=[(train_x, train_y), (valid_x, valid_y)], \n",
    "        #    eval_metric= 'auc', early_stopping_rounds= 100)\n",
    "\n",
    "        oof_preds[valid_idx] = clf.predict_proba(valid_x, num_iteration=clf.best_iteration_)[:, 1]\n",
    "        sub_preds += clf.predict_proba(test_df[feats], num_iteration=clf.best_iteration_)[:, 1] / folds.n_splits\n",
    "\n",
    "        fold_importance_df = pd.DataFrame()\n",
    "        fold_importance_df[\"feature\"] = feats\n",
    "        fold_importance_df[\"importance\"] = clf.feature_importances_\n",
    "        fold_importance_df[\"fold\"] = n_fold + 1\n",
    "        feature_importance_df = pd.concat([feature_importance_df, fold_importance_df], axis=0)\n",
    "        print('Fold %2d AUC : %.6f' % (n_fold + 1, roc_auc_score(valid_y, oof_preds[valid_idx])))\n",
    "        del clf, train_x, train_y, valid_x, valid_y\n",
    "        gc.collect()\n",
    "\n",
    "    print('Full AUC score %.6f' % roc_auc_score(train_df['TARGET'], oof_preds))\n",
    "    # Write submission file and plot feature importance\n",
    "    test_df['TARGET'] = sub_preds\n",
    "    test_df[['SK_ID_CURR', 'TARGET']].to_csv(submission_file_name, index= False)\n",
    "    display_importances(feature_importance_df)\n",
    "    #return feature_importance_df\n",
    "    return oof_preds, model \n"
   ]
  },
  {
   "cell_type": "code",
   "execution_count": 13,
   "metadata": {},
   "outputs": [],
   "source": [
    "# Display/plot feature importance\n",
    "def display_importances(feature_importance_df_):\n",
    "    cols = feature_importance_df_[[\"feature\", \"importance\"]].groupby(\"feature\").mean().sort_values(by=\"importance\", ascending=False)[:40].index\n",
    "    best_features = feature_importance_df_.loc[feature_importance_df_.feature.isin(cols)]\n",
    "    plt.figure(figsize=(8, 10))\n",
    "    sns.barplot(x=\"importance\", y=\"feature\", data=best_features.sort_values(by=\"importance\", ascending=False))\n",
    "    plt.title('LightGBM Features (avg over folds)')\n",
    "    plt.tight_layout()\n",
    "    plt.savefig('lgbm_importances-01.png')"
   ]
  },
  {
   "cell_type": "markdown",
   "metadata": {},
   "source": [
    "### Fonctions supplémentaires ajoutées, pour traiter les valeurs infinies ou non std"
   ]
  },
  {
   "cell_type": "code",
   "execution_count": 14,
   "metadata": {},
   "outputs": [],
   "source": [
    "# Preprocessing remplaçant les valeurs infinies par NaN et supprimant les colonnes non numériques\n",
    "def clean_infinite_and_nonNum(df):\n",
    "    print(\"Number of infinite values in the dataframe :\", np.isinf(df).values.sum())\n",
    "    df.replace([np.inf, -np.inf], np.nan, inplace=True)\n",
    "    print(\"Are there any infinite values left?:\", np.isinf(df).values.any())\n",
    "\n",
    "    # Identification des colonnes dont le type n'est pas numérique, afin de les supprimer pour les calculs SHAP ultérieurs\n",
    "    non_numeric_columns = df.select_dtypes(exclude=[np.number]).columns\n",
    "    print(\"Non-numeric columns:\", non_numeric_columns)\n",
    "\n",
    "    df = df.drop(columns=non_numeric_columns)\n",
    "\n",
    "    non_numeric_columns = df.select_dtypes(exclude=[np.number]).columns\n",
    "    print(\"Still non-numeric columns, after cleaning:\", non_numeric_columns.any())\n",
    "    return df"
   ]
  },
  {
   "cell_type": "code",
   "execution_count": 15,
   "metadata": {},
   "outputs": [],
   "source": [
    "# Résolution erreur LightGBMError: Do not support special JSON characters in feature name.\n",
    "\n",
    "def clean_JSON(df):\n",
    "    regex = r'[^a-zA-Z0-9\\s]'\n",
    "    for col in df.columns:\n",
    "        if df[col].dtype == 'object':\n",
    "            df[col] = df[col].str.replace(regex, '', regex=True)\n",
    "    return df"
   ]
  },
  {
   "cell_type": "code",
   "execution_count": 16,
   "metadata": {},
   "outputs": [],
   "source": [
    "def clean_feature_name(name):\n",
    "    # Remplacement des caractères JSON avec un underscore\n",
    "    return re.sub(r'[{}\\[\\]:;,<>/?\\\\|`~!@#$%^&*()\\-+=\\'\"]', '_', name)"
   ]
  },
  {
   "cell_type": "code",
   "execution_count": 17,
   "metadata": {},
   "outputs": [],
   "source": [
    "def clean_all(df):\n",
    "    df = clean_infinite_and_nonNum(df)\n",
    "    df = clean_JSON(df)\n",
    "\n",
    "    # Génération de nom de colonnes sans caractères spéciaux\n",
    "    cleaned_column_names = [clean_feature_name(name) for name in df.columns]\n",
    "    # Mise à jout des noms de colonnes du dataframe\n",
    "    df.columns = cleaned_column_names   \n",
    "    print(\"JSON characters cleaned\")\n",
    "    df.columns = [col.replace(' ', '_') for col in df.columns]\n",
    "\n",
    "    return df"
   ]
  },
  {
   "cell_type": "code",
   "execution_count": 18,
   "metadata": {},
   "outputs": [],
   "source": [
    "def drop_emptyTARGETs(df):\n",
    "    # Suppression des lignes TARGET dépourvues de valeur\n",
    "    df_copy = df.copy()\n",
    "    n = df_copy.loc[:,'TARGET'].shape[0]\n",
    "    df_copy.dropna(subset=['TARGET'], inplace=True)\n",
    "    m = df_copy.loc[:,'TARGET'].shape[0]\n",
    "    print(\"Total number of lines before:\", n, \"Number of lines with the TARGET filled-in:\", m)\n",
    "    return df_copy"
   ]
  },
  {
   "cell_type": "markdown",
   "metadata": {},
   "source": [
    "### Fonction d'affichage de la ROC ou AUC (Area Under the ROC Curve)"
   ]
  },
  {
   "cell_type": "code",
   "execution_count": 19,
   "metadata": {},
   "outputs": [],
   "source": [
    "def graphROC(y_true, y_pred_probs, modelName):\n",
    "    # Calcul de la courbe ROC\n",
    "    fpr, tpr, thresholds = roc_curve(y_true, y_pred_probs)\n",
    "\n",
    "    # Calcul de l'AUC (Area Under the ROC Curve)\n",
    "    roc_auc = auc(fpr, tpr)\n",
    "\n",
    "    plt.figure(figsize=(8, 6))\n",
    "    plt.plot(fpr, tpr, color='darkorange', lw=2, label='ROC curve (area = {:.2f})'.format(roc_auc))\n",
    "    plt.plot([0, 1], [0, 1], color='navy', lw=2, linestyle='--')\n",
    "    plt.xlim([0.0, 1.0])\n",
    "    plt.ylim([0.0, 1.05])\n",
    "    plt.xlabel('False Positive Rate')\n",
    "    plt.ylabel('True Positive Rate')\n",
    "    plt.title('Receiver Operating Characteristic (ROC) Curve '+modelName)\n",
    "    plt.legend(loc='lower right')"
   ]
  },
  {
   "cell_type": "markdown",
   "metadata": {},
   "source": [
    "### Pré-traitements de l'ensemble des dataframes source, dans un seul, global, appelé df "
   ]
  },
  {
   "cell_type": "code",
   "execution_count": 20,
   "metadata": {},
   "outputs": [
    {
     "name": "stdout",
     "output_type": "stream",
     "text": [
      "Train samples: 307511, test samples: 48744\n",
      "Bureau df shape: (305811, 122)\n",
      "Process bureau and bureau_balance - done in 22s\n",
      "Previous applications df shape: (338857, 249)\n",
      "Process previous_applications - done in 26s\n",
      "Pos-cash balance df shape: (337252, 18)\n",
      "Process POS-CASH balance - done in 14s\n",
      "Installments payments df shape: (339587, 26)\n",
      "Process installments payments - done in 33s\n",
      "Number of infinite values in the dataframe : 61\n",
      "Are there any infinite values left?: False\n",
      "Non-numeric columns: Index(['NAME_CONTRACT_TYPE_Cash loans', 'NAME_CONTRACT_TYPE_Revolving loans',\n",
      "       'NAME_CONTRACT_TYPE_nan', 'NAME_TYPE_SUITE_Children',\n",
      "       'NAME_TYPE_SUITE_Family', 'NAME_TYPE_SUITE_Group of people',\n",
      "       'NAME_TYPE_SUITE_Other_A', 'NAME_TYPE_SUITE_Other_B',\n",
      "       'NAME_TYPE_SUITE_Spouse, partner', 'NAME_TYPE_SUITE_Unaccompanied',\n",
      "       ...\n",
      "       'WALLSMATERIAL_MODE_Mixed', 'WALLSMATERIAL_MODE_Monolithic',\n",
      "       'WALLSMATERIAL_MODE_Others', 'WALLSMATERIAL_MODE_Panel',\n",
      "       'WALLSMATERIAL_MODE_Stone, brick', 'WALLSMATERIAL_MODE_Wooden',\n",
      "       'WALLSMATERIAL_MODE_nan', 'EMERGENCYSTATE_MODE_No',\n",
      "       'EMERGENCYSTATE_MODE_Yes', 'EMERGENCYSTATE_MODE_nan'],\n",
      "      dtype='object', length=146)\n",
      "Still non-numeric columns, after cleaning: False\n",
      "JSON characters cleaned\n"
     ]
    }
   ],
   "source": [
    "submission_file_name = \"submission_kernel26.csv\"\n",
    "num_rows = None\n",
    "df = application_train_test(num_rows)\n",
    "with timer(\"Process bureau and bureau_balance\"):\n",
    "        bureau = bureau_and_balance(num_rows)\n",
    "        print(\"Bureau df shape:\", bureau.shape)\n",
    "        df = df.join(bureau, how='left', on='SK_ID_CURR')\n",
    "        del bureau\n",
    "        gc.collect()\n",
    "with timer(\"Process previous_applications\"):\n",
    "        prev = previous_applications(num_rows)\n",
    "        print(\"Previous applications df shape:\", prev.shape)\n",
    "        df = df.join(prev, how='left', on='SK_ID_CURR')\n",
    "        del prev\n",
    "        gc.collect()\n",
    "with timer(\"Process POS-CASH balance\"):\n",
    "        pos = pos_cash(num_rows)\n",
    "        print(\"Pos-cash balance df shape:\", pos.shape)\n",
    "        df = df.join(pos, how='left', on='SK_ID_CURR')\n",
    "        del pos\n",
    "        gc.collect()\n",
    "with timer(\"Process installments payments\"):\n",
    "        ins = installments_payments(num_rows)\n",
    "        print(\"Installments payments df shape:\", ins.shape)\n",
    "        df = df.join(ins, how='left', on='SK_ID_CURR')\n",
    "        del ins\n",
    "        gc.collect()\n",
    "#with timer(\"Process credit card balance\"):\n",
    "#        cc = credit_card_balance(num_rows)\n",
    "#        print(\"Credit card balance df shape:\", cc.shape)\n",
    "#        df = df.join(cc, how='left', on='SK_ID_CURR')\n",
    "#        del cc\n",
    "#        gc.collect()\n",
    "        \n",
    "df = clean_all(df)"
   ]
  },
  {
   "cell_type": "code",
   "execution_count": 21,
   "metadata": {},
   "outputs": [
    {
     "name": "stdout",
     "output_type": "stream",
     "text": [
      "Total number of lines before: 356255 Number of lines with the TARGET filled-in: 307511\n"
     ]
    }
   ],
   "source": [
    "df = drop_emptyTARGETs(df)"
   ]
  },
  {
   "cell_type": "markdown",
   "metadata": {},
   "source": [
    "# Analyse exploratoire"
   ]
  },
  {
   "cell_type": "code",
   "execution_count": 22,
   "metadata": {},
   "outputs": [
    {
     "data": {
      "text/plain": [
       "<Axes: ylabel='Frequency'>"
      ]
     },
     "execution_count": 22,
     "metadata": {},
     "output_type": "execute_result"
    },
    {
     "data": {
      "image/png": "[encoded data removed]",
      "text/plain": [
       "<Figure size 640x480 with 1 Axes>"
      ]
     },
     "metadata": {},
     "output_type": "display_data"
    }
   ],
   "source": [
    "df['TARGET'].astype(int).plot.hist()"
   ]
  },
  {
   "cell_type": "code",
   "execution_count": 23,
   "metadata": {},
   "outputs": [
    {
     "name": "stdout",
     "output_type": "stream",
     "text": [
      "Ratio of the repayed credit is 92 %\n"
     ]
    },
    {
     "data": {
      "image/png": "[encoded data removed]",
      "text/plain": [
       "<Figure size 640x480 with 1 Axes>"
      ]
     },
     "metadata": {},
     "output_type": "display_data"
    }
   ],
   "source": [
    "nRepayed = df.loc[(df['TARGET']==0),:].shape[0]\n",
    "nDefaulted = df.loc[(df['TARGET']==1),:].shape[0]\n",
    "ratioDefault = nDefaulted / (nRepayed + nDefaulted)\n",
    "\n",
    "# Calcul du ratio de défault, et du percentile à afficher\n",
    "percentThreshold = 100 - int(ratioDefault * 100)\n",
    "print('Ratio of the repayed credit is',percentThreshold,'%')\n",
    "\n",
    "TargetCredit = df.TARGET.value_counts()\n",
    "palette_color=sns.color_palette()\n",
    "plt.pie(TargetCredit,labels=TargetCredit.index,colors=palette_color,autopct='%.0f%%')\n",
    "plt.show()"
   ]
  },
  {
   "cell_type": "markdown",
   "metadata": {},
   "source": [
    "### Identification des features qui seraient trop corrélées à la Target"
   ]
  },
  {
   "cell_type": "code",
   "execution_count": 24,
   "metadata": {},
   "outputs": [
    {
     "name": "stdout",
     "output_type": "stream",
     "text": [
      "PREV_CODE_REJECT_REASON_SCOFR_MEAN                  0.112108\n",
      "REF_DAYS_DECISION_MAX                               0.100852\n",
      "BURO_MONTHS_BALANCE_MIN_MIN                         0.097665\n",
      "REF_AMT_DOWN_PAYMENT_MIN                            0.091027\n",
      "PREV_NAME_CONTRACT_STATUS_Refused_MEAN              0.083275\n",
      "ACT_AMT_CREDIT_MAX_OVERDUE_MEAN                     0.078177\n",
      "BURO_DAYS_CREDIT_MEAN                               0.077132\n",
      "REF_DAYS_DECISION_MEAN                              0.074948\n",
      "DAYS_EMPLOYED                                       0.066210\n",
      "PREV_NAME_CASH_LOAN_PURPOSE_Hobby_MEAN              0.066139\n",
      "PREV_NAME_CASH_LOAN_PURPOSE_Buying_a_garage_MEAN    0.066139\n",
      "BURO_DAYS_CREDIT_MIN                                0.065999\n",
      "BURO_DAYS_CREDIT_ENDDATE_MEAN                       0.065409\n",
      "ACT_DAYS_CREDIT_MEAN                                0.065150\n",
      "FLAG_DOCUMENT_2                                     0.065134\n",
      "DAYS_BIRTH                                          0.064517\n",
      "BURO_CREDIT_ACTIVE_Active_MEAN                      0.062563\n",
      "ACT_DAYS_CREDIT_ENDDATE_MAX                         0.062029\n",
      "PREV_NAME_TYPE_SUITE_nan_MEAN                       0.061470\n",
      "BURO_CREDIT_TYPE_Microloan_MEAN                     0.059635\n",
      "INS_DBD_MAX                                         0.059509\n",
      "CLS_AMT_CREDIT_SUM_LIMIT_SUM                        0.059477\n",
      "BURO_STATUS_4_MEAN_MEAN                             0.057556\n",
      "ACT_DAYS_CREDIT_MAX                                 0.057168\n",
      "DAYS_ID_PUBLISH                                     0.055115\n",
      "POS_NAME_CONTRACT_STATUS_Approved_MEAN              0.055109\n",
      "ACT_DAYS_CREDIT_ENDDATE_MEAN                        0.054846\n",
      "BURO_STATUS_0_MEAN_MEAN                             0.054553\n",
      "PREV_PRODUCT_COMBINATION_nan_MEAN                   0.054044\n",
      "PREV_NAME_CONTRACT_TYPE_XNA_MEAN                    0.054044\n",
      "BURO_DAYS_CREDIT_ENDDATE_MAX                        0.053780\n",
      "POS_NAME_CONTRACT_STATUS_Signed_MEAN                0.052954\n",
      "PREV_CODE_REJECT_REASON_HC_MEAN                     0.052913\n",
      "ACT_MONTHS_BALANCE_MIN_MIN                          0.051633\n",
      "PREV_NAME_CASH_LOAN_PURPOSE_Furniture_MEAN          0.051532\n",
      "APR_DAYS_DECISION_MIN                               0.050780\n",
      "PREV_DAYS_DECISION_MEAN                             0.050304\n",
      "ACT_DAYS_CREDIT_MIN                                 0.050098\n",
      "REF_APP_CREDIT_PERC_MIN                            -0.050472\n",
      "DAYS_EMPLOYED_PERC                                 -0.054175\n",
      "PREV_NAME_TYPE_SUITE_Unaccompanied_MEAN            -0.062290\n",
      "ACT_DAYS_CREDIT_VAR                                -0.063889\n",
      "BURO_CREDIT_ACTIVE_Closed_MEAN                     -0.067319\n",
      "PREV_NAME_CONTRACT_STATUS_Approved_MEAN            -0.074390\n",
      "PREV_CODE_REJECT_REASON_XAP_MEAN                   -0.079164\n",
      "BURO_STATUS_C_MEAN_MEAN                            -0.086299\n",
      "CLS_MONTHS_BALANCE_MAX_MAX                         -0.090641\n",
      "ACT_MONTHS_BALANCE_SIZE_MEAN                       -0.090718\n",
      "BURO_MONTHS_BALANCE_SIZE_MEAN                      -0.112805\n",
      "EXT_SOURCE_1                                       -0.150865\n",
      "EXT_SOURCE_2                                       -0.168181\n",
      "EXT_SOURCE_3                                       -0.183060\n",
      "Name: TARGET, dtype: float64\n"
     ]
    }
   ],
   "source": [
    "# Fraction du dataset utilisée dans les calculs de corrélation\n",
    "p = 100\n",
    "n=int(df.shape[0]/p)\n",
    "correlations = df.sample(n).corr()\n",
    "\n",
    "target_correlation = correlations['TARGET'].drop('TARGET', axis=0)\n",
    "\n",
    "# Elimination des corrélations qui ne sont pas significatives\n",
    "significant_correlations = target_correlation[abs(target_correlation) > 0.05]\n",
    "sorted_correlations = significant_correlations.sort_values(ascending=False)\n",
    "\n",
    "print(sorted_correlations)"
   ]
  },
  {
   "cell_type": "markdown",
   "metadata": {},
   "source": [
    "# Fonctions de prédiction"
   ]
  },
  {
   "cell_type": "markdown",
   "metadata": {},
   "source": [
    "### Utilisation de la fonction fournie par le notebook Kaggle, très légèrement modifiée\n",
    "##### finalement écartée car beaucoup trop longue à exécuter"
   ]
  },
  {
   "cell_type": "code",
   "execution_count": 25,
   "metadata": {},
   "outputs": [
    {
     "data": {
      "text/plain": [
       "'with timer(\"Run LightGBM with kfold\"):\\n    oof_preds, model = kfold_lightgbm(df, num_folds= 5, stratified = False)\\n'"
      ]
     },
     "execution_count": 25,
     "metadata": {},
     "output_type": "execute_result"
    }
   ],
   "source": [
    "'''with timer(\"Run LightGBM with kfold\"):\n",
    "    oof_preds, model = kfold_lightgbm(df, num_folds= 5, stratified = False)\n",
    "'''"
   ]
  },
  {
   "cell_type": "markdown",
   "metadata": {},
   "source": [
    "## Utilisation d'un LightGBM simple \n",
    "#### entrainé avec la librairie lightgbm, très rapide"
   ]
  },
  {
   "cell_type": "code",
   "execution_count": 36,
   "metadata": {},
   "outputs": [],
   "source": [
    "\n",
    "def simpleLGBM(df):\n",
    "    # Définition de X_train et de y_train\n",
    "    train_df = df[df['TARGET'].notnull()].copy()\n",
    "    y = train_df['TARGET']\n",
    "    X = train_df.drop(columns= ['TARGET'], axis = 1)\n",
    "\n",
    "    X_train, X_test, y_train, y_test = train_test_split(X, y, test_size=0.2, random_state=42)\n",
    "\n",
    "    # Conversion des données en dataset intelligible pour LightGBM\n",
    "    train_data = lgb.Dataset(X_train, label=y_train)\n",
    "    test_data = lgb.Dataset(X_test, label=y_test, reference=train_data)\n",
    "\n",
    "    # Utilisation des paramètres précédents (fournis dans le notbook Kaggle)\n",
    "    params = {\n",
    "    'boosting_type': 'gbdt',   # Gradient boosting decision tree\n",
    "    'objective': 'binary',     # Binary target feature\n",
    "    'metric': 'binary_logloss',# Metric for binary classification\n",
    "    'num_leaves': 31,          # Number of leaves in one tree\n",
    "    'learning_rate': 0.05,     # How much to update the model in each iteration\n",
    "    'feature_fraction': 0.9,   # The fraction of features to consider in each tree\n",
    "    'bagging_fraction': 0.8,   # The fraction of data to consider in each iteration\n",
    "    'bagging_freq': 5,         # Frequency for bagging\n",
    "    'verbose': 0               # Controls the level of LightGBM's verbosity\n",
    "    }\n",
    "\n",
    "\n",
    "    model = lgb.train(params,\n",
    "                train_data,\n",
    "                num_boost_round=100,      # Number of boosting iterations\n",
    "                valid_sets=[train_data, test_data],  # Validation data\n",
    "                ) # Will stop if no improvement is shown in the given rounds\n",
    "\n",
    "    # Prédictions avec le modèle fité\n",
    "    y_pred = model.predict(X, num_iteration=model.best_iteration)\n",
    "    aucC = roc_auc_score(y, y_pred)\n",
    "    print(f\"The AUC score is: {aucC}\")\n",
    "\n",
    "    # Calculons la valeur au percentile à partir duquel nous observons des défauts, afin de calculer le seuil pour rendre boléennes nos estimations\n",
    "    valPercentileDefault = np.percentile(y_pred,percentThreshold)\n",
    "\n",
    "    print('The value above with the credit is most likely to be defaulted is %.6f' % valPercentileDefault)\n",
    "\n",
    "    #score1 = business_score(y, y_pred)\n",
    "    #print(f\"The business score is: {score1}\")\n",
    "\n",
    "    graphROC(df['TARGET'].values, y_pred, \"LightGBM\")\n",
    "    return y_pred, model"
   ]
  },
  {
   "cell_type": "code",
   "execution_count": 37,
   "metadata": {},
   "outputs": [
    {
     "name": "stdout",
     "output_type": "stream",
     "text": [
      "The AUC score is: 0.7950852614759097\n",
      "The value above with the credit is most likely to be defaulted is 0.195335\n"
     ]
    },
    {
     "data": {
      "image/png": "[encoded data removed]",
      "text/plain": [
       "<Figure size 800x600 with 1 Axes>"
      ]
     },
     "metadata": {},
     "output_type": "display_data"
    }
   ],
   "source": [
    "y_pred, model = simpleLGBM(df)"
   ]
  },
  {
   "cell_type": "markdown",
   "metadata": {},
   "source": [
    "### Distribution des probabilités de défault calculées par le modèle "
   ]
  },
  {
   "cell_type": "code",
   "execution_count": 38,
   "metadata": {},
   "outputs": [
    {
     "data": {
      "image/png": "[encoded data removed]",
      "text/plain": [
       "<Figure size 640x480 with 1 Axes>"
      ]
     },
     "metadata": {},
     "output_type": "display_data"
    }
   ],
   "source": [
    "percentiles = np.percentile(y_pred, [25, 50, 75, percentThreshold])\n",
    "\n",
    "plt.boxplot(y_pred, vert=False)\n",
    "plt.scatter(percentiles, [1, 1, 1, 1], color='red', marker='o', label='Percentiles')\n",
    "plt.xlabel('Value')\n",
    "plt.ylabel('Percentiles')\n",
    "plt.title('Percentiles of computed probabilities of default')\n",
    "plt.legend()\n",
    "plt.show()"
   ]
  },
  {
   "cell_type": "markdown",
   "metadata": {},
   "source": [
    "### Importance des features, calculée avec SHAP, pour compléter & vérifier le code kaggle"
   ]
  },
  {
   "cell_type": "code",
   "execution_count": 41,
   "metadata": {},
   "outputs": [
    {
     "name": "stdout",
     "output_type": "stream",
     "text": [
      "Size of the dataset for the SHAP computations: (3075, 527)\n"
     ]
    },
    {
     "name": "stderr",
     "output_type": "stream",
     "text": [
      " 98%|===================| 3005/3075 [00:18<00:00]        "
     ]
    },
    {
     "ename": "ExplainerError",
     "evalue": "Additivity check failed in TreeExplainer! Please ensure the data matrix you passed to the explainer is the same shape that the model was trained on. If your data shape is correct then please report this on GitHub. This check failed because for one of the samples the sum of the SHAP values was -3.336538, while the model output was -3.307077. If this difference is acceptable you can set check_additivity=False to disable this check.",
     "output_type": "error",
     "traceback": [
      "\u001b[0;31m---------------------------------------------------------------------------\u001b[0m",
      "\u001b[0;31mExplainerError\u001b[0m                            Traceback (most recent call last)",
      "Cell \u001b[0;32mIn[41], line 16\u001b[0m\n\u001b[1;32m     13\u001b[0m explainer \u001b[38;5;241m=\u001b[39m shap\u001b[38;5;241m.\u001b[39mExplainer(model, background)\n\u001b[1;32m     15\u001b[0m feats \u001b[38;5;241m=\u001b[39m [f \u001b[38;5;28;01mfor\u001b[39;00m f \u001b[38;5;129;01min\u001b[39;00m X_sample\u001b[38;5;241m.\u001b[39mcolumns \u001b[38;5;28;01mif\u001b[39;00m f \u001b[38;5;129;01mnot\u001b[39;00m \u001b[38;5;129;01min\u001b[39;00m [\u001b[38;5;124m'\u001b[39m\u001b[38;5;124mTARGET\u001b[39m\u001b[38;5;124m'\u001b[39m]]\n\u001b[0;32m---> 16\u001b[0m shap_values \u001b[38;5;241m=\u001b[39m \u001b[43mexplainer\u001b[49m\u001b[38;5;241;43m.\u001b[39;49m\u001b[43mshap_values\u001b[49m\u001b[43m(\u001b[49m\u001b[43mX_sample\u001b[49m\u001b[43m[\u001b[49m\u001b[43mfeats\u001b[49m\u001b[43m]\u001b[49m\u001b[43m)\u001b[49m\n\u001b[1;32m     17\u001b[0m shap\u001b[38;5;241m.\u001b[39msummary_plot(shap_values, X_sample[feats])\n\u001b[1;32m     19\u001b[0m \u001b[38;5;66;03m# Synthèse des valeurs SHAP de toutes les features pour calculer l'importance relative de chaque feature\u001b[39;00m\n",
      "File \u001b[0;32m~/Library/Python/3.9/lib/python/site-packages/shap/explainers/_tree.py:489\u001b[0m, in \u001b[0;36mTreeExplainer.shap_values\u001b[0;34m(self, X, y, tree_limit, approximate, check_additivity, from_call)\u001b[0m\n\u001b[1;32m    487\u001b[0m out \u001b[38;5;241m=\u001b[39m \u001b[38;5;28mself\u001b[39m\u001b[38;5;241m.\u001b[39m_get_shap_output(phi, flat_output)\n\u001b[1;32m    488\u001b[0m \u001b[38;5;28;01mif\u001b[39;00m check_additivity \u001b[38;5;129;01mand\u001b[39;00m \u001b[38;5;28mself\u001b[39m\u001b[38;5;241m.\u001b[39mmodel\u001b[38;5;241m.\u001b[39mmodel_output \u001b[38;5;241m==\u001b[39m \u001b[38;5;124m\"\u001b[39m\u001b[38;5;124mraw\u001b[39m\u001b[38;5;124m\"\u001b[39m:\n\u001b[0;32m--> 489\u001b[0m     \u001b[38;5;28;43mself\u001b[39;49m\u001b[38;5;241;43m.\u001b[39;49m\u001b[43massert_additivity\u001b[49m\u001b[43m(\u001b[49m\u001b[43mout\u001b[49m\u001b[43m,\u001b[49m\u001b[43m \u001b[49m\u001b[38;5;28;43mself\u001b[39;49m\u001b[38;5;241;43m.\u001b[39;49m\u001b[43mmodel\u001b[49m\u001b[38;5;241;43m.\u001b[39;49m\u001b[43mpredict\u001b[49m\u001b[43m(\u001b[49m\u001b[43mX\u001b[49m\u001b[43m)\u001b[49m\u001b[43m)\u001b[49m\n\u001b[1;32m    491\u001b[0m \u001b[38;5;28;01mreturn\u001b[39;00m out\n",
      "File \u001b[0;32m~/Library/Python/3.9/lib/python/site-packages/shap/explainers/_tree.py:636\u001b[0m, in \u001b[0;36mTreeExplainer.assert_additivity\u001b[0;34m(self, phi, model_output)\u001b[0m\n\u001b[1;32m    634\u001b[0m         check_sum(\u001b[38;5;28mself\u001b[39m\u001b[38;5;241m.\u001b[39mexpected_value[i] \u001b[38;5;241m+\u001b[39m phi[i]\u001b[38;5;241m.\u001b[39msum(\u001b[38;5;241m-\u001b[39m\u001b[38;5;241m1\u001b[39m), model_output[:,i])\n\u001b[1;32m    635\u001b[0m \u001b[38;5;28;01melse\u001b[39;00m:\n\u001b[0;32m--> 636\u001b[0m     \u001b[43mcheck_sum\u001b[49m\u001b[43m(\u001b[49m\u001b[38;5;28;43mself\u001b[39;49m\u001b[38;5;241;43m.\u001b[39;49m\u001b[43mexpected_value\u001b[49m\u001b[43m \u001b[49m\u001b[38;5;241;43m+\u001b[39;49m\u001b[43m \u001b[49m\u001b[43mphi\u001b[49m\u001b[38;5;241;43m.\u001b[39;49m\u001b[43msum\u001b[49m\u001b[43m(\u001b[49m\u001b[38;5;241;43m-\u001b[39;49m\u001b[38;5;241;43m1\u001b[39;49m\u001b[43m)\u001b[49m\u001b[43m,\u001b[49m\u001b[43m \u001b[49m\u001b[43mmodel_output\u001b[49m\u001b[43m)\u001b[49m\n",
      "File \u001b[0;32m~/Library/Python/3.9/lib/python/site-packages/shap/explainers/_tree.py:630\u001b[0m, in \u001b[0;36mTreeExplainer.assert_additivity.<locals>.check_sum\u001b[0;34m(sum_val, model_output)\u001b[0m\n\u001b[1;32m    626\u001b[0m     err_msg \u001b[38;5;241m+\u001b[39m\u001b[38;5;241m=\u001b[39m \u001b[38;5;124m\"\u001b[39m\u001b[38;5;124m Consider retrying with the feature_perturbation=\u001b[39m\u001b[38;5;124m'\u001b[39m\u001b[38;5;124minterventional\u001b[39m\u001b[38;5;124m'\u001b[39m\u001b[38;5;124m option.\u001b[39m\u001b[38;5;124m\"\u001b[39m\n\u001b[1;32m    627\u001b[0m err_msg \u001b[38;5;241m+\u001b[39m\u001b[38;5;241m=\u001b[39m \u001b[38;5;124m\"\u001b[39m\u001b[38;5;124m This check failed because for one of the samples the sum of the SHAP values\u001b[39m\u001b[38;5;124m\"\u001b[39m \\\n\u001b[1;32m    628\u001b[0m            \u001b[38;5;124m\"\u001b[39m\u001b[38;5;124m was \u001b[39m\u001b[38;5;132;01m{:f}\u001b[39;00m\u001b[38;5;124m, while the model output was \u001b[39m\u001b[38;5;132;01m{:f}\u001b[39;00m\u001b[38;5;124m. If this difference is acceptable\u001b[39m\u001b[38;5;124m\"\u001b[39m \\\n\u001b[1;32m    629\u001b[0m            \u001b[38;5;124m\"\u001b[39m\u001b[38;5;124m you can set check_additivity=False to disable this check.\u001b[39m\u001b[38;5;124m\"\u001b[39m\u001b[38;5;241m.\u001b[39mformat(sum_val[ind], model_output[ind])\n\u001b[0;32m--> 630\u001b[0m \u001b[38;5;28;01mraise\u001b[39;00m ExplainerError(err_msg)\n",
      "\u001b[0;31mExplainerError\u001b[0m: Additivity check failed in TreeExplainer! Please ensure the data matrix you passed to the explainer is the same shape that the model was trained on. If your data shape is correct then please report this on GitHub. This check failed because for one of the samples the sum of the SHAP values was -3.336538, while the model output was -3.307077. If this difference is acceptable you can set check_additivity=False to disable this check."
     ]
    }
   ],
   "source": [
    "numFeaturesModel = 20\n",
    "\n",
    "train_df = df[df['TARGET'].notnull()].copy()\n",
    "y = train_df['TARGET']\n",
    "X = train_df.drop(columns= ['TARGET'], axis = 1)\n",
    "\n",
    "# Utilisation d'un sous ensemble du dataset, représentatif pour accélérer le calcul des features\n",
    "X_sample, _, y_sample, _ = train_test_split(X, y, train_size=0.01, stratify=y, random_state=42)\n",
    "\n",
    "print('Size of the dataset for the SHAP computations:',X_sample.shape)\n",
    "with timer(\"Compute Shap values for LightGBM\"):\n",
    "    background = Independent(data=X_sample)\n",
    "    explainer = shap.Explainer(model, background)\n",
    "\n",
    "    feats = [f for f in X_sample.columns if f not in ['TARGET', 'SK_ID_CURR', 'SK_ID_BUREAU', 'SK_ID_PREV']]\n",
    "    shap_values = explainer.shap_values(X_sample[feats])\n",
    "    shap.summary_plot(shap_values, X_sample[feats])\n",
    "    \n",
    "    # Synthèse des valeurs SHAP de toutes les features pour calculer l'importance relative de chaque feature\n",
    "    shap_sum = np.abs(shap_values).mean(axis=0)  \n",
    "\n",
    "    # Selection des features les plus importantes, pour les utiliser par la suite, pour d'autres modèles\n",
    "    importance_df = pd.DataFrame([X_sample.columns.tolist(), shap_sum.tolist()]).T\n",
    "    importance_df.columns = ['Feature', 'Importance']\n",
    "    importance_df = importance_df.sort_values('Importance', ascending=False).reset_index(drop=True).head(numFeaturesModel)\n",
    "    print('Most important features to be used in our model:',importance_df)"
   ]
  },
  {
   "cell_type": "markdown",
   "metadata": {},
   "source": []
  },
  {
   "cell_type": "markdown",
   "metadata": {},
   "source": [
    "### Simplification du dataset pour ne conserver que les features les plus importantes, et la Target"
   ]
  },
  {
   "cell_type": "code",
   "execution_count": 33,
   "metadata": {},
   "outputs": [
    {
     "name": "stdout",
     "output_type": "stream",
     "text": [
      "Dataset size before the elimination of the non relevant features: (307511, 528)\n",
      "Dataset size after (307511, 21)\n"
     ]
    }
   ],
   "source": [
    "important_features = importance_df['Feature'].tolist()\n",
    "important_features.append('TARGET')\n",
    "\n",
    "print('Dataset size before the elimination of the non relevant features:', df.shape)\n",
    "\n",
    "df_filtered = df[important_features]\n",
    "print('Dataset size after', df_filtered.shape)\n"
   ]
  },
  {
   "cell_type": "markdown",
   "metadata": {},
   "source": [
    "# Test des performances du m"
   ]
  },
  {
   "cell_type": "code",
   "execution_count": 35,
   "metadata": {},
   "outputs": [
    {
     "ename": "KeyError",
     "evalue": "\"['SK_ID_CURR'] not found in axis\"",
     "output_type": "error",
     "traceback": [
      "\u001b[0;31m---------------------------------------------------------------------------\u001b[0m",
      "\u001b[0;31mKeyError\u001b[0m                                  Traceback (most recent call last)",
      "Cell \u001b[0;32mIn[35], line 1\u001b[0m\n\u001b[0;32m----> 1\u001b[0m y_pred, model \u001b[38;5;241m=\u001b[39m \u001b[43msimpleLGBM\u001b[49m\u001b[43m(\u001b[49m\u001b[43mdf_filtered\u001b[49m\u001b[43m)\u001b[49m\n",
      "Cell \u001b[0;32mIn[28], line 5\u001b[0m, in \u001b[0;36msimpleLGBM\u001b[0;34m(df)\u001b[0m\n\u001b[1;32m      3\u001b[0m train_df \u001b[38;5;241m=\u001b[39m df[df[\u001b[38;5;124m'\u001b[39m\u001b[38;5;124mTARGET\u001b[39m\u001b[38;5;124m'\u001b[39m]\u001b[38;5;241m.\u001b[39mnotnull()]\u001b[38;5;241m.\u001b[39mcopy()\n\u001b[1;32m      4\u001b[0m y \u001b[38;5;241m=\u001b[39m train_df[\u001b[38;5;124m'\u001b[39m\u001b[38;5;124mTARGET\u001b[39m\u001b[38;5;124m'\u001b[39m]\n\u001b[0;32m----> 5\u001b[0m X \u001b[38;5;241m=\u001b[39m \u001b[43mtrain_df\u001b[49m\u001b[38;5;241;43m.\u001b[39;49m\u001b[43mdrop\u001b[49m\u001b[43m(\u001b[49m\u001b[43mcolumns\u001b[49m\u001b[38;5;241;43m=\u001b[39;49m\u001b[43m \u001b[49m\u001b[43m[\u001b[49m\u001b[38;5;124;43m'\u001b[39;49m\u001b[38;5;124;43mTARGET\u001b[39;49m\u001b[38;5;124;43m'\u001b[39;49m\u001b[43m,\u001b[49m\u001b[43m \u001b[49m\u001b[38;5;124;43m'\u001b[39;49m\u001b[38;5;124;43mSK_ID_CURR\u001b[39;49m\u001b[38;5;124;43m'\u001b[39;49m\u001b[43m]\u001b[49m\u001b[43m,\u001b[49m\u001b[43m \u001b[49m\u001b[43maxis\u001b[49m\u001b[43m \u001b[49m\u001b[38;5;241;43m=\u001b[39;49m\u001b[43m \u001b[49m\u001b[38;5;241;43m1\u001b[39;49m\u001b[43m)\u001b[49m\n\u001b[1;32m      7\u001b[0m X_train, X_test, y_train, y_test \u001b[38;5;241m=\u001b[39m train_test_split(X, y, test_size\u001b[38;5;241m=\u001b[39m\u001b[38;5;241m0.2\u001b[39m, random_state\u001b[38;5;241m=\u001b[39m\u001b[38;5;241m42\u001b[39m)\n\u001b[1;32m      9\u001b[0m \u001b[38;5;66;03m# Conversion des données en dataset intelligible pour LightGBM\u001b[39;00m\n",
      "File \u001b[0;32m~/Library/Python/3.9/lib/python/site-packages/pandas/core/frame.py:5344\u001b[0m, in \u001b[0;36mDataFrame.drop\u001b[0;34m(self, labels, axis, index, columns, level, inplace, errors)\u001b[0m\n\u001b[1;32m   5196\u001b[0m \u001b[38;5;28;01mdef\u001b[39;00m \u001b[38;5;21mdrop\u001b[39m(\n\u001b[1;32m   5197\u001b[0m     \u001b[38;5;28mself\u001b[39m,\n\u001b[1;32m   5198\u001b[0m     labels: IndexLabel \u001b[38;5;241m|\u001b[39m \u001b[38;5;28;01mNone\u001b[39;00m \u001b[38;5;241m=\u001b[39m \u001b[38;5;28;01mNone\u001b[39;00m,\n\u001b[0;32m   (...)\u001b[0m\n\u001b[1;32m   5205\u001b[0m     errors: IgnoreRaise \u001b[38;5;241m=\u001b[39m \u001b[38;5;124m\"\u001b[39m\u001b[38;5;124mraise\u001b[39m\u001b[38;5;124m\"\u001b[39m,\n\u001b[1;32m   5206\u001b[0m ) \u001b[38;5;241m-\u001b[39m\u001b[38;5;241m>\u001b[39m DataFrame \u001b[38;5;241m|\u001b[39m \u001b[38;5;28;01mNone\u001b[39;00m:\n\u001b[1;32m   5207\u001b[0m \u001b[38;5;250m    \u001b[39m\u001b[38;5;124;03m\"\"\"\u001b[39;00m\n\u001b[1;32m   5208\u001b[0m \u001b[38;5;124;03m    Drop specified labels from rows or columns.\u001b[39;00m\n\u001b[1;32m   5209\u001b[0m \n\u001b[0;32m   (...)\u001b[0m\n\u001b[1;32m   5342\u001b[0m \u001b[38;5;124;03m            weight  1.0     0.8\u001b[39;00m\n\u001b[1;32m   5343\u001b[0m \u001b[38;5;124;03m    \"\"\"\u001b[39;00m\n\u001b[0;32m-> 5344\u001b[0m     \u001b[38;5;28;01mreturn\u001b[39;00m \u001b[38;5;28;43msuper\u001b[39;49m\u001b[43m(\u001b[49m\u001b[43m)\u001b[49m\u001b[38;5;241;43m.\u001b[39;49m\u001b[43mdrop\u001b[49m\u001b[43m(\u001b[49m\n\u001b[1;32m   5345\u001b[0m \u001b[43m        \u001b[49m\u001b[43mlabels\u001b[49m\u001b[38;5;241;43m=\u001b[39;49m\u001b[43mlabels\u001b[49m\u001b[43m,\u001b[49m\n\u001b[1;32m   5346\u001b[0m \u001b[43m        \u001b[49m\u001b[43maxis\u001b[49m\u001b[38;5;241;43m=\u001b[39;49m\u001b[43maxis\u001b[49m\u001b[43m,\u001b[49m\n\u001b[1;32m   5347\u001b[0m \u001b[43m        \u001b[49m\u001b[43mindex\u001b[49m\u001b[38;5;241;43m=\u001b[39;49m\u001b[43mindex\u001b[49m\u001b[43m,\u001b[49m\n\u001b[1;32m   5348\u001b[0m \u001b[43m        \u001b[49m\u001b[43mcolumns\u001b[49m\u001b[38;5;241;43m=\u001b[39;49m\u001b[43mcolumns\u001b[49m\u001b[43m,\u001b[49m\n\u001b[1;32m   5349\u001b[0m \u001b[43m        \u001b[49m\u001b[43mlevel\u001b[49m\u001b[38;5;241;43m=\u001b[39;49m\u001b[43mlevel\u001b[49m\u001b[43m,\u001b[49m\n\u001b[1;32m   5350\u001b[0m \u001b[43m        \u001b[49m\u001b[43minplace\u001b[49m\u001b[38;5;241;43m=\u001b[39;49m\u001b[43minplace\u001b[49m\u001b[43m,\u001b[49m\n\u001b[1;32m   5351\u001b[0m \u001b[43m        \u001b[49m\u001b[43merrors\u001b[49m\u001b[38;5;241;43m=\u001b[39;49m\u001b[43merrors\u001b[49m\u001b[43m,\u001b[49m\n\u001b[1;32m   5352\u001b[0m \u001b[43m    \u001b[49m\u001b[43m)\u001b[49m\n",
      "File \u001b[0;32m~/Library/Python/3.9/lib/python/site-packages/pandas/core/generic.py:4711\u001b[0m, in \u001b[0;36mNDFrame.drop\u001b[0;34m(self, labels, axis, index, columns, level, inplace, errors)\u001b[0m\n\u001b[1;32m   4709\u001b[0m \u001b[38;5;28;01mfor\u001b[39;00m axis, labels \u001b[38;5;129;01min\u001b[39;00m axes\u001b[38;5;241m.\u001b[39mitems():\n\u001b[1;32m   4710\u001b[0m     \u001b[38;5;28;01mif\u001b[39;00m labels \u001b[38;5;129;01mis\u001b[39;00m \u001b[38;5;129;01mnot\u001b[39;00m \u001b[38;5;28;01mNone\u001b[39;00m:\n\u001b[0;32m-> 4711\u001b[0m         obj \u001b[38;5;241m=\u001b[39m \u001b[43mobj\u001b[49m\u001b[38;5;241;43m.\u001b[39;49m\u001b[43m_drop_axis\u001b[49m\u001b[43m(\u001b[49m\u001b[43mlabels\u001b[49m\u001b[43m,\u001b[49m\u001b[43m \u001b[49m\u001b[43maxis\u001b[49m\u001b[43m,\u001b[49m\u001b[43m \u001b[49m\u001b[43mlevel\u001b[49m\u001b[38;5;241;43m=\u001b[39;49m\u001b[43mlevel\u001b[49m\u001b[43m,\u001b[49m\u001b[43m \u001b[49m\u001b[43merrors\u001b[49m\u001b[38;5;241;43m=\u001b[39;49m\u001b[43merrors\u001b[49m\u001b[43m)\u001b[49m\n\u001b[1;32m   4713\u001b[0m \u001b[38;5;28;01mif\u001b[39;00m inplace:\n\u001b[1;32m   4714\u001b[0m     \u001b[38;5;28mself\u001b[39m\u001b[38;5;241m.\u001b[39m_update_inplace(obj)\n",
      "File \u001b[0;32m~/Library/Python/3.9/lib/python/site-packages/pandas/core/generic.py:4753\u001b[0m, in \u001b[0;36mNDFrame._drop_axis\u001b[0;34m(self, labels, axis, level, errors, only_slice)\u001b[0m\n\u001b[1;32m   4751\u001b[0m         new_axis \u001b[38;5;241m=\u001b[39m axis\u001b[38;5;241m.\u001b[39mdrop(labels, level\u001b[38;5;241m=\u001b[39mlevel, errors\u001b[38;5;241m=\u001b[39merrors)\n\u001b[1;32m   4752\u001b[0m     \u001b[38;5;28;01melse\u001b[39;00m:\n\u001b[0;32m-> 4753\u001b[0m         new_axis \u001b[38;5;241m=\u001b[39m \u001b[43maxis\u001b[49m\u001b[38;5;241;43m.\u001b[39;49m\u001b[43mdrop\u001b[49m\u001b[43m(\u001b[49m\u001b[43mlabels\u001b[49m\u001b[43m,\u001b[49m\u001b[43m \u001b[49m\u001b[43merrors\u001b[49m\u001b[38;5;241;43m=\u001b[39;49m\u001b[43merrors\u001b[49m\u001b[43m)\u001b[49m\n\u001b[1;32m   4754\u001b[0m     indexer \u001b[38;5;241m=\u001b[39m axis\u001b[38;5;241m.\u001b[39mget_indexer(new_axis)\n\u001b[1;32m   4756\u001b[0m \u001b[38;5;66;03m# Case for non-unique axis\u001b[39;00m\n\u001b[1;32m   4757\u001b[0m \u001b[38;5;28;01melse\u001b[39;00m:\n",
      "File \u001b[0;32m~/Library/Python/3.9/lib/python/site-packages/pandas/core/indexes/base.py:7000\u001b[0m, in \u001b[0;36mIndex.drop\u001b[0;34m(self, labels, errors)\u001b[0m\n\u001b[1;32m   6998\u001b[0m \u001b[38;5;28;01mif\u001b[39;00m mask\u001b[38;5;241m.\u001b[39many():\n\u001b[1;32m   6999\u001b[0m     \u001b[38;5;28;01mif\u001b[39;00m errors \u001b[38;5;241m!=\u001b[39m \u001b[38;5;124m\"\u001b[39m\u001b[38;5;124mignore\u001b[39m\u001b[38;5;124m\"\u001b[39m:\n\u001b[0;32m-> 7000\u001b[0m         \u001b[38;5;28;01mraise\u001b[39;00m \u001b[38;5;167;01mKeyError\u001b[39;00m(\u001b[38;5;124mf\u001b[39m\u001b[38;5;124m\"\u001b[39m\u001b[38;5;132;01m{\u001b[39;00mlabels[mask]\u001b[38;5;241m.\u001b[39mtolist()\u001b[38;5;132;01m}\u001b[39;00m\u001b[38;5;124m not found in axis\u001b[39m\u001b[38;5;124m\"\u001b[39m)\n\u001b[1;32m   7001\u001b[0m     indexer \u001b[38;5;241m=\u001b[39m indexer[\u001b[38;5;241m~\u001b[39mmask]\n\u001b[1;32m   7002\u001b[0m \u001b[38;5;28;01mreturn\u001b[39;00m \u001b[38;5;28mself\u001b[39m\u001b[38;5;241m.\u001b[39mdelete(indexer)\n",
      "\u001b[0;31mKeyError\u001b[0m: \"['SK_ID_CURR'] not found in axis\""
     ]
    }
   ],
   "source": [
    "y_pred, model = simpleLGBM(df_filtered)"
   ]
  },
  {
   "cell_type": "markdown",
   "metadata": {},
   "source": [
    "## Calcul d'un score Business, plus adapté à notre cas concret, \n",
    "#### et sa mesure en fontion du seuil de conversion de probabilité de défaut, en booléen défaut"
   ]
  },
  {
   "cell_type": "code",
   "execution_count": 44,
   "metadata": {},
   "outputs": [],
   "source": [
    "# Calcul du Business Score: un crédit accordé qui ne sera pas remboursé est très pénalisant (faux négatif), perte en principal\n",
    "# contrairement à un crédit refusé qui aurait été remboursé (faux positif) que l'on surpondère dans le calcul\n",
    "# Ce Business score est ainsi une fonction de cout que l'on cherche à minimiser i.e. minimiser le manque à gagner\n",
    "def customBusinessScore(tp, tn, fp, fn):\n",
    "    businessScore = fp  + fn * 10\n",
    "    return businessScore"
   ]
  },
  {
   "cell_type": "code",
   "execution_count": 46,
   "metadata": {},
   "outputs": [],
   "source": [
    "def assessPred(df, oof_preds, valPercentileDefault):\n",
    "    actual_targets = df['TARGET'].values\n",
    "\n",
    "    # Conversion des probabilités en valeurs booléennes avec notre seuil calculé juste avant\n",
    "    valPercentileTest = valPercentileDefault\n",
    "    binary_predictions = np.where(oof_preds > valPercentileTest, 1, 0)\n",
    "\n",
    "    # Génération de la matrice de confusion\n",
    "    conf_matrix = confusion_matrix(actual_targets, binary_predictions)\n",
    "\n",
    "    # Extraction des vrais positifs (true p), faux positifs (false p), faux negatifs (fn) et des vrais positifs (tn)\n",
    "    tn, fp, fn, tp = conf_matrix.ravel()\n",
    "\n",
    "\n",
    "    # Extraction de la vérité et des estimations\n",
    "    y_true = df['TARGET'].values\n",
    "    y_pred_probs = oof_preds\n",
    "\n",
    "    # Calcul de la courbe ROC\n",
    "    fpr, tpr, thresholds = roc_curve(y_true, y_pred_probs)  \n",
    "\n",
    "    print(\"Threshold:\", valPercentileDefault)\n",
    "    print(f\"True Positives: {tp}\")\n",
    "    print(f\"False Positives: {fp}\")\n",
    "    print(f\"True Negatives: {tn}\")\n",
    "    print(f\"False Negatives: {fn}\")\n",
    "\n",
    "    # Calcul de precision (qualité de l'estimation des vrais positifs) et de  recall/rappel (capacité à trouver tous les vrais positifs)\n",
    "    precision = tp / (tp + fp)\n",
    "    recall = tp / (tp + fn)\n",
    "\n",
    "    # Calcul du F1 Score\n",
    "    f1_score = 2 * (precision * recall) / (precision + recall)\n",
    "\n",
    "\n",
    "    businessScore = customBusinessScore(tp, tn, fp, fn)\n",
    "    print(f\"Precision Score: {precision:.2f}\")\n",
    "    print(f\"Recall Score: {recall:.2f}\")\n",
    "    print(f\"F1 Score: {f1_score:.2f}\")\n",
    "    print('Business score:', businessScore)\n",
    "    print(\"____________________________________\")\n",
    "\n",
    "    # Initialisation des variables pour déterminer le meilleur score\n",
    "    best_threshold = None\n",
    "    best_score = np.inf  # Initialisation à + infini (cout infini, que l'on cherche à minimiser)\n",
    "\n",
    "    thresholds_list = []\n",
    "    scores_list = []\n",
    "\n",
    "\n",
    "    # Détermination de meilleur seuil pour optimiser le business score\n",
    "\n",
    "    for threshold in thresholds:\n",
    "        # Conversion des probabilités en booléen en fonction du seuil appelé threshold\n",
    "        y_pred = (y_pred_probs >= threshold).astype(int)\n",
    "    \n",
    "        # Calculs des vrais / faux positifs et négatifs\n",
    "        tp = np.sum((y_pred == 1) & (y_true == 1))\n",
    "        tn = np.sum((y_pred == 0) & (y_true == 0))\n",
    "        fp = np.sum((y_pred == 1) & (y_true == 0))\n",
    "        fn = np.sum((y_pred == 0) & (y_true == 1))\n",
    "    \n",
    "        # Calcul du score Business\n",
    "        score = customBusinessScore(tp, tn, fp, fn)\n",
    "    \n",
    "        # Stockage du score parmi les scores business calculés pour chacun des seuils testés\n",
    "        thresholds_list.append(threshold)\n",
    "        scores_list.append(score)\n",
    "\n",
    "    \n",
    "        # Détermination si le score dernièrement calculé est le meilleur, et stockage le cas échéant\n",
    "        if score < best_score:\n",
    "            best_score = score\n",
    "            best_threshold = threshold\n",
    "\n",
    "\n",
    "    print(f\"Best Threshold: {best_threshold:.4f}\")\n",
    "    print(f\"Best Score: {best_score:.2f}\")\n",
    "\n",
    "    plt.figure(figsize=(8, 6))\n",
    "    plt.plot(thresholds_list, scores_list, marker='o', linestyle='-', color='b')\n",
    "    plt.xlabel('Threshold')\n",
    "    plt.ylabel('Business Score')\n",
    "    plt.title('Business Score vs. Threshold')\n",
    "    plt.grid(True)\n",
    "    plt.show()"
   ]
  },
  {
   "cell_type": "code",
   "execution_count": 47,
   "metadata": {},
   "outputs": [
    {
     "ename": "NameError",
     "evalue": "name 'oof_preds' is not defined",
     "output_type": "error",
     "traceback": [
      "\u001b[0;31m---------------------------------------------------------------------------\u001b[0m",
      "\u001b[0;31mNameError\u001b[0m                                 Traceback (most recent call last)",
      "Cell \u001b[0;32mIn[47], line 1\u001b[0m\n\u001b[0;32m----> 1\u001b[0m assessPred(df, \u001b[43moof_preds\u001b[49m, valPercentileDefault)\n",
      "\u001b[0;31mNameError\u001b[0m: name 'oof_preds' is not defined"
     ]
    }
   ],
   "source": [
    "assessPred(df, y_pred, valPercentileDefault)"
   ]
  },
  {
   "cell_type": "code",
   "execution_count": 28,
   "metadata": {},
   "outputs": [],
   "source": [
    "# Fonction de calcul de score, utilisable par GridSearchCV, \n",
    "# prenant 2 paramètres : les valeurs vraies et celles prédites\n",
    "# retournant un Business Score\n",
    "\n",
    "def business_score(y_true, y_pred):\n",
    "    \n",
    "    # Conversion des probabilités en valeurs booléennes avec notre seuil calculé juste avant\n",
    "    binary_predictions = np.where(y_pred > valPercentileDefault, 1, 0)\n",
    "    \n",
    "    # Calcul de la matrice de confusion\n",
    "    conf_matrix = confusion_matrix(y_true, binary_predictions)\n",
    "\n",
    "    # Extraction des résultats\n",
    "    tn, fp, fn, tp = conf_matrix.ravel()\n",
    "    score = customBusinessScore(tp, tn, fp, fn)\n",
    "    print ('Current Business Score:',score)\n",
    "    return score\n"
   ]
  },
  {
   "cell_type": "code",
   "execution_count": 30,
   "metadata": {},
   "outputs": [
    {
     "name": "stdout",
     "output_type": "stream",
     "text": [
      "The AUC score is: 0.7954082025356543\n",
      "The value above with the credit is most likely to be defaulted is 0.194383\n",
      "Current Business Score: 179043\n",
      "The business score is: 179043\n"
     ]
    }
   ],
   "source": [
    "# Utilisation d'un simple LightGBM\n",
    "\n",
    "# Définition de X_train et de y_train\n",
    "train_df = df[df['TARGET'].notnull()].copy()\n",
    "y = train_df['TARGET']\n",
    "X = train_df.drop(columns= ['TARGET', 'SK_ID_CURR'], axis = 1)\n",
    "\n",
    "X_train, X_test, y_train, y_test = train_test_split(X, y, test_size=0.2, random_state=42)\n",
    "\n",
    "# Conversion des données en dataset intelligible pour LightGBM\n",
    "train_data = lgb.Dataset(X_train, label=y_train)\n",
    "test_data = lgb.Dataset(X_test, label=y_test, reference=train_data)\n",
    "\n",
    "# Utilisation des paramètres précédents\n",
    "params = {\n",
    "    'boosting_type': 'gbdt',   # Gradient boosting decision tree\n",
    "    'objective': 'binary',     # Binary target feature\n",
    "    'metric': 'binary_logloss',# Metric for binary classification\n",
    "    'num_leaves': 31,          # Number of leaves in one tree\n",
    "    'learning_rate': 0.05,     # How much to update the model in each iteration\n",
    "    'feature_fraction': 0.9,   # The fraction of features to consider in each tree\n",
    "    'bagging_fraction': 0.8,   # The fraction of data to consider in each iteration\n",
    "    'bagging_freq': 5,         # Frequency for bagging\n",
    "    'verbose': 0               # Controls the level of LightGBM's verbosity\n",
    "}\n",
    "\n",
    "gbm = lgb.train(params,\n",
    "                train_data,\n",
    "                num_boost_round=100,      # Number of boosting iterations\n",
    "                valid_sets=[train_data, test_data],  # Validation data\n",
    "                ) # Will stop if no improvement is shown in the given rounds\n",
    "\n",
    "# Prédictions avec le modèle fité\n",
    "y_pred = gbm.predict(X, num_iteration=gbm.best_iteration)\n",
    "aucC = roc_auc_score(y, y_pred)\n",
    "print(f\"The AUC score is: {aucC}\")\n",
    "\n",
    "# Calculons la valeur au percentile à partir duquel nous observons des défauts, afin de calculer le seuil pour rendre boléennes nos estimations\n",
    "valPercentileDefault = np.percentile(y_pred,percentThreshold)\n",
    "\n",
    "print('The value above with the credit is most likely to be defaulted is %.6f' % valPercentileDefault)\n",
    "\n",
    "score1 = business_score(y, y_pred)\n",
    "print(f\"The business score is: {score1}\")\n",
    "\n"
   ]
  },
  {
   "cell_type": "code",
   "execution_count": null,
   "metadata": {},
   "outputs": [],
   "source": [
    "# Définition d'une fonction scorer utilisable par GridSearchCV\n",
    "business_scorer = make_scorer(business_score, greater_is_better=False,needs_proba=True)"
   ]
  },
  {
   "cell_type": "markdown",
   "metadata": {},
   "source": [
    "## Modèles naifs mesurant la qualité de notre LightGBM"
   ]
  },
  {
   "cell_type": "code",
   "execution_count": null,
   "metadata": {},
   "outputs": [],
   "source": [
    "def testDummyC(df):\n",
    "    # Separation des Targets, des features\n",
    "    X = df.drop(columns=['TARGET'])  \n",
    "    y = df['TARGET']  \n",
    "\n",
    "    imputer = SimpleImputer(strategy=\"mean\")\n",
    "    X_imputed = imputer.fit_transform(X)\n",
    "\n",
    "    X_train, X_test, y_train, y_test = train_test_split(X_imputed, y, test_size=0.2, random_state=42)\n",
    "\n",
    "\n",
    "    # DummyClassifier pour la classification\n",
    "    dummy_clf = DummyClassifier(strategy=\"most_frequent\")\n",
    "    dummy_clf.fit(X_train, y_train)\n",
    "    y_pred_probs = dummy_clf.predict_proba(X_test)[:, 1]  # Probabilités de la bonne classe\n",
    "\n",
    "    graphROC(y_test, y_pred_probs, \"DummyRegressor\")"
   ]
  },
  {
   "cell_type": "code",
   "execution_count": null,
   "metadata": {},
   "outputs": [],
   "source": [
    "def testLogisticR(df):\n",
    "    # Separation des Targets, des features\n",
    "    X = df.drop(columns=['TARGET'])  \n",
    "    y = df['TARGET']  \n",
    "\n",
    "    imputer = SimpleImputer(strategy=\"mean\")\n",
    "    X_imputed = imputer.fit_transform(X)\n",
    "\n",
    "    X_train, X_test, y_train, y_test = train_test_split(X_imputed, y, test_size=0.2, random_state=42)\n",
    "\n",
    "    log_reg = LogisticRegression(max_iter=1000)  # Increase max_iter if needed for convergence\n",
    "    log_reg.fit(X_train, y_train)\n",
    "\n",
    "    # Predicting probabilities for the test set\n",
    "    y_pred_probs = log_reg.predict_proba(X_test)[:, 1]\n",
    "\n",
    "    graphROC(y_test, y_pred_probs, 'LogisticRegression')"
   ]
  },
  {
   "cell_type": "code",
   "execution_count": null,
   "metadata": {},
   "outputs": [
    {
     "data": {
      "image/png": "[encoded data removed]",
      "text/plain": [
       "<Figure size 800x600 with 1 Axes>"
      ]
     },
     "metadata": {},
     "output_type": "display_data"
    }
   ],
   "source": [
    "testDummyC(df)"
   ]
  },
  {
   "cell_type": "code",
   "execution_count": null,
   "metadata": {},
   "outputs": [
    {
     "data": {
      "image/png": "[encoded data removed]",
      "text/plain": [
       "<Figure size 800x600 with 1 Axes>"
      ]
     },
     "metadata": {},
     "output_type": "display_data"
    }
   ],
   "source": [
    "testLogisticR(df)"
   ]
  },
  {
   "cell_type": "code",
   "execution_count": null,
   "metadata": {},
   "outputs": [
    {
     "data": {
      "text/plain": [
       "'\\n# Problème de convergence, avec GridSearchCV, même si le score est correctement calculé - temps de calcul ?\\n# Préparation du dataset\\nX_train, X_test, y_train, y_test = train_test_split(X, y, test_size=0.2, random_state=42)\\n\\nmodel = lgb.LGBMClassifier()\\n\\n# Définition des paramètres à rechercher\\nparam_grid = {\\n    \\'num_leaves\\': [34],\\n    \\'learning_rate\\': [0.5],\\n    \\'n_estimators\\': [1000],\\n}\\n\\n\\n\\n\\n# Initialisation GridSearchCV\\ngrid_search = GridSearchCV(model, param_grid, scoring=business_scorer, cv=5, verbose=1)\\n\\n# Fit\\ngrid_search.fit(X_train, y_train)\\n\\n# Meilleurs paramètres et meilleur score\\nprint(\"Best parameters found: \", grid_search.best_params_)\\nprint(\"Best business score found: \", grid_search.best_score_)\\n'"
      ]
     },
     "execution_count": 38,
     "metadata": {},
     "output_type": "execute_result"
    }
   ],
   "source": [
    "'''\n",
    "# Problème de convergence, avec GridSearchCV, même si le score est correctement calculé - temps de calcul ?\n",
    "# Préparation du dataset\n",
    "X_train, X_test, y_train, y_test = train_test_split(X, y, test_size=0.2, random_state=42)\n",
    "\n",
    "model = lgb.LGBMClassifier()\n",
    "\n",
    "# Définition des paramètres à rechercher\n",
    "param_grid = {\n",
    "    'num_leaves': [34],\n",
    "    'learning_rate': [0.5],\n",
    "    'n_estimators': [1000],\n",
    "}\n",
    "\n",
    "\n",
    "\n",
    "\n",
    "# Initialisation GridSearchCV\n",
    "grid_search = GridSearchCV(model, param_grid, scoring=business_scorer, cv=5, verbose=1)\n",
    "\n",
    "# Fit\n",
    "grid_search.fit(X_train, y_train)\n",
    "\n",
    "# Meilleurs paramètres et meilleur score\n",
    "print(\"Best parameters found: \", grid_search.best_params_)\n",
    "print(\"Best business score found: \", grid_search.best_score_)\n",
    "'''"
   ]
  },
  {
   "cell_type": "markdown",
   "metadata": {},
   "source": [
    "## Fonction de prédiction LightGBM avec recherche des hyperparamètres"
   ]
  },
  {
   "cell_type": "code",
   "execution_count": null,
   "metadata": {},
   "outputs": [],
   "source": [
    "# Mise en oeuvre d'un GridSearch, spécifique à l'aide d'un early stopping dédié\n",
    "def lightGBMGrid(X_train, X_test, y_train, y_test, param_grid, modelNameX, smoteT):\n",
    "\n",
    "    # Initialisation à +infini, du business score, qui est un cout à minimiser\n",
    "    best_cost = float('inf')\n",
    "    best_params = None\n",
    "    cost_improvement_threshold = 1000  # Taille minimale de l'amélioration nécessaire pour continuer à rechercher les meilleurs paramètres\n",
    "    last_cost = float('inf')\n",
    "\n",
    "    # Setup K-fold cross-validation\n",
    "    kf = KFold(n_splits=5, shuffle=True, random_state=42)\n",
    "\n",
    "    print('Sets of hyperparameters to be tested:', param_grid)\n",
    "    if smoteT:\n",
    "        print('Training with SMOTE')\n",
    "        # 92% des crédits sont remboursés, les données sont très déséquilibrées\n",
    "        # Utilisons SMOTE (Synthetic Minority Over-sampling Technique) pour corriger le déséquilibre du dataset\n",
    "        # en créant de nouvelles données synthétiques en interpolant des examples\n",
    "        smote = SMOTE(random_state=42)\n",
    "\n",
    "        X_train_smote, y_train_smote = smote.fit_resample(X_train, y_train)\n",
    "\n",
    "        # Conversion de X_train_smote en dataframe\n",
    "        X_train_smote_df = pd.DataFrame(X_train_smote, columns=X.columns)\n",
    "        X_train = X_train_smote_df\n",
    "        y_train = y_train_smote\n",
    "\n",
    "        cost_improvement_threshold = 1000\n",
    "\n",
    "    for params in ParameterGrid(param_grid):\n",
    "        costs = []\n",
    "        auc_scores = []\n",
    "        print('Training with the following parameters:', params)\n",
    "    \n",
    "        for train_index, val_index in kf.split(X_train):\n",
    "            #print(\"Number of train indexes:\", train_index.shape[0])  \n",
    "            X_train_fold, X_val_fold = X_train.iloc[train_index], X_train.iloc[val_index]\n",
    "            y_train_fold, y_val_fold = y_train.iloc[train_index], y_train.iloc[val_index]\n",
    "        \n",
    "            # Création des datasets lightGBM\n",
    "            lgb_train = lgb.Dataset(X_train_fold, y_train_fold)\n",
    "            lgb_val = lgb.Dataset(X_val_fold, y_val_fold, reference=lgb_train)\n",
    "        \n",
    "            # Entrainement des modèles sans les stopping rounds\n",
    "            model = lgb.train(params,\n",
    "                                lgb_train,\n",
    "                                num_boost_round=10000, \n",
    "                                valid_sets=[lgb_val])\n",
    "        \n",
    "            # Predict du fold\n",
    "            y_pred = model.predict(X_val_fold, num_iteration=model.best_iteration)\n",
    "        \n",
    "            # Calcul du business score (fonction cout que l'on cherche à minimiser)\n",
    "            cost = business_score(y_val_fold, y_pred)\n",
    "            costs.append(cost)\n",
    "\n",
    "            auc_score = roc_auc_score(y_val_fold, y_pred)\n",
    "            auc_scores.append(auc_score)\n",
    "    \n",
    "        # Calcul de la moyenne des couts de l'ensemble des folds\n",
    "        avg_cost = np.mean(costs)\n",
    "        mean_test_AUC = np.mean(auc_scores)\n",
    "        print(\"Average business score:\", avg_cost)\n",
    "        # print(\"Average AUC:\", mean_test_AUC)\n",
    "        print(\"________________________________\")\n",
    "    \n",
    "        if avg_cost < best_cost:\n",
    "            best_cost = avg_cost\n",
    "            best_params = params\n",
    "            improvement = (last_cost - avg_cost) / last_cost\n",
    "            print(\"Current improvements:\", improvement)\n",
    "            if improvement < cost_improvement_threshold:\n",
    "                print(\"Stopping search due to insufficient cost improvement.\")\n",
    "                break\n",
    "        else:\n",
    "            improvement = (last_cost - avg_cost) / last_cost\n",
    "            if improvement < cost_improvement_threshold:\n",
    "                print(\"Stopping search due to insufficient cost improvement.\")\n",
    "                break\n",
    "    \n",
    "        last_cost = avg_cost\n",
    "\n",
    "    print(f\"Best parameters: {best_params}\")\n",
    "    print(f\"Lowest average cost: {best_cost}\")\n",
    "    oof_preds = model.predict(X_test)\n",
    "    graphROC(y_test, oof_preds, modelNameX)\n",
    "    return model"
   ]
  },
  {
   "cell_type": "code",
   "execution_count": null,
   "metadata": {},
   "outputs": [
    {
     "data": {
      "text/plain": [
       "\"\\nparam_grid = {\\n    'verbose': [-1],\\n    'learning_rate': [0.1],         # Taux d'apprentissage\\n    'reg_lambda': [0, 0.5],\\n    'num_leaves': [34],\\n\\n}\\n\""
      ]
     },
     "execution_count": 40,
     "metadata": {},
     "output_type": "execute_result"
    }
   ],
   "source": [
    "'''\n",
    "param_grid = {\n",
    "    'verbose': [-1],\n",
    "    'learning_rate': [0.1],         # Taux d'apprentissage\n",
    "    'reg_lambda': [0, 0.5],\n",
    "    'num_leaves': [34],\n",
    "\n",
    "}\n",
    "'''"
   ]
  },
  {
   "cell_type": "code",
   "execution_count": null,
   "metadata": {},
   "outputs": [],
   "source": [
    "            \n",
    "param_grid = {\n",
    "            'verbose': [-1],\n",
    "            'nthread': [4],\n",
    "            'n_estimators': [10000],\n",
    "            'learning_rate': [0.02],\n",
    "            'num_leaves': [10, 34],\n",
    "            'colsample_bytree': [0.9497036],\n",
    "            'subsample': [0.8715623],\n",
    "            'max_depth': [8],\n",
    "            'reg_alpha': [0.041545473],\n",
    "            'reg_lambda': [0.0735294],\n",
    "            'min_split_gain': [0.0222415],\n",
    "            'min_child_weight': [39.3259775],\n",
    "           }"
   ]
  },
  {
   "cell_type": "code",
   "execution_count": null,
   "metadata": {},
   "outputs": [
    {
     "name": "stdout",
     "output_type": "stream",
     "text": [
      "Sets of hyperparameters to be tested: {'verbose': [-1], 'nthread': [4], 'n_estimators': [10000], 'learning_rate': [0.02], 'num_leaves': [10, 34], 'colsample_bytree': [0.9497036], 'subsample': [0.8715623], 'max_depth': [8], 'reg_alpha': [0.041545473], 'reg_lambda': [0.0735294], 'min_split_gain': [0.0222415], 'min_child_weight': [39.3259775]}\n",
      "Training with the following parameters: {'colsample_bytree': 0.9497036, 'learning_rate': 0.02, 'max_depth': 8, 'min_child_weight': 39.3259775, 'min_split_gain': 0.0222415, 'n_estimators': 10000, 'nthread': 4, 'num_leaves': 10, 'reg_alpha': 0.041545473, 'reg_lambda': 0.0735294, 'subsample': 0.8715623, 'verbose': -1}\n"
     ]
    },
    {
     "name": "stderr",
     "output_type": "stream",
     "text": [
      "Found `n_estimators` in params. Will use it instead of argument\n"
     ]
    },
    {
     "name": "stdout",
     "output_type": "stream",
     "text": [
      "Current Business Score: 25722\n"
     ]
    },
    {
     "name": "stderr",
     "output_type": "stream",
     "text": [
      "Found `n_estimators` in params. Will use it instead of argument\n"
     ]
    },
    {
     "name": "stdout",
     "output_type": "stream",
     "text": [
      "Current Business Score: 25359\n"
     ]
    },
    {
     "name": "stderr",
     "output_type": "stream",
     "text": [
      "Found `n_estimators` in params. Will use it instead of argument\n"
     ]
    },
    {
     "name": "stdout",
     "output_type": "stream",
     "text": [
      "Current Business Score: 25217\n"
     ]
    },
    {
     "name": "stderr",
     "output_type": "stream",
     "text": [
      "Found `n_estimators` in params. Will use it instead of argument\n"
     ]
    },
    {
     "name": "stdout",
     "output_type": "stream",
     "text": [
      "Current Business Score: 24785\n"
     ]
    },
    {
     "name": "stderr",
     "output_type": "stream",
     "text": [
      "Found `n_estimators` in params. Will use it instead of argument\n"
     ]
    },
    {
     "name": "stdout",
     "output_type": "stream",
     "text": [
      "Current Business Score: 25117\n",
      "Average business score: 25240.0\n",
      "________________________________\n",
      "Current improvements: nan\n",
      "Training with the following parameters: {'colsample_bytree': 0.9497036, 'learning_rate': 0.02, 'max_depth': 8, 'min_child_weight': 39.3259775, 'min_split_gain': 0.0222415, 'n_estimators': 10000, 'nthread': 4, 'num_leaves': 34, 'reg_alpha': 0.041545473, 'reg_lambda': 0.0735294, 'subsample': 0.8715623, 'verbose': -1}\n"
     ]
    },
    {
     "name": "stderr",
     "output_type": "stream",
     "text": [
      "invalid value encountered in scalar divide\n",
      "Found `n_estimators` in params. Will use it instead of argument\n"
     ]
    },
    {
     "name": "stdout",
     "output_type": "stream",
     "text": [
      "Current Business Score: 26351\n"
     ]
    },
    {
     "name": "stderr",
     "output_type": "stream",
     "text": [
      "Found `n_estimators` in params. Will use it instead of argument\n"
     ]
    },
    {
     "name": "stdout",
     "output_type": "stream",
     "text": [
      "Current Business Score: 26323\n"
     ]
    },
    {
     "name": "stderr",
     "output_type": "stream",
     "text": [
      "Found `n_estimators` in params. Will use it instead of argument\n"
     ]
    },
    {
     "name": "stdout",
     "output_type": "stream",
     "text": [
      "Current Business Score: 25961\n"
     ]
    },
    {
     "name": "stderr",
     "output_type": "stream",
     "text": [
      "Found `n_estimators` in params. Will use it instead of argument\n"
     ]
    },
    {
     "name": "stdout",
     "output_type": "stream",
     "text": [
      "Current Business Score: 25897\n"
     ]
    },
    {
     "name": "stderr",
     "output_type": "stream",
     "text": [
      "Found `n_estimators` in params. Will use it instead of argument\n"
     ]
    },
    {
     "name": "stdout",
     "output_type": "stream",
     "text": [
      "Current Business Score: 25902\n",
      "Average business score: 26086.8\n",
      "________________________________\n",
      "Stopping search due to insufficient cost improvement.\n",
      "Best parameters: {'colsample_bytree': 0.9497036, 'learning_rate': 0.02, 'max_depth': 8, 'min_child_weight': 39.3259775, 'min_split_gain': 0.0222415, 'n_estimators': 10000, 'nthread': 4, 'num_leaves': 10, 'reg_alpha': 0.041545473, 'reg_lambda': 0.0735294, 'subsample': 0.8715623, 'verbose': -1}\n",
      "Lowest average cost: 25240.0\n"
     ]
    },
    {
     "data": {
      "image/png": "[encoded data removed]",
      "text/plain": [
       "<Figure size 800x600 with 1 Axes>"
      ]
     },
     "metadata": {},
     "output_type": "display_data"
    }
   ],
   "source": [
    "# Définition de X_train et de y_train\n",
    "train_df = df[df['TARGET'].notnull()].copy()\n",
    "y = train_df['TARGET']\n",
    "X = train_df.drop(columns= ['TARGET', 'SK_ID_CURR'], axis = 1)\n",
    "X.columns = [col.replace(' ', '_') for col in X.columns]\n",
    "\n",
    "X_train, X_test, y_train, y_test = train_test_split(X, y, test_size=0.2, random_state=42)\n",
    "model = lightGBMGrid(X_train, X_test, y_train, y_test, param_grid, 'LightGBM', False)"
   ]
  },
  {
   "cell_type": "code",
   "execution_count": null,
   "metadata": {},
   "outputs": [],
   "source": [
    "model_filename = pathProject+'lgb_model.pkl'\n",
    "\n",
    "# Sauvegarde du modèle entrainé, en mode binaire\n",
    "with open(model_filename, 'wb') as file:\n",
    "    pickle.dump(model, file)"
   ]
  },
  {
   "cell_type": "markdown",
   "metadata": {},
   "source": [
    "### Nouvel entrainement en corrigeant le déséquilibre des données (peu de défauts)"
   ]
  },
  {
   "cell_type": "code",
   "execution_count": null,
   "metadata": {},
   "outputs": [
    {
     "name": "stdout",
     "output_type": "stream",
     "text": [
      "Sets of hyperparameters to be tested: {'verbose': [-1], 'nthread': [4], 'n_estimators': [10000], 'learning_rate': [0.02], 'num_leaves': [10, 34], 'colsample_bytree': [0.9497036], 'subsample': [0.8715623], 'max_depth': [8], 'reg_alpha': [0.041545473], 'reg_lambda': [0.0735294], 'min_split_gain': [0.0222415], 'min_child_weight': [39.3259775]}\n",
      "Training with SMOTE\n",
      "Training with the following parameters: {'colsample_bytree': 0.9497036, 'learning_rate': 0.02, 'max_depth': 8, 'min_child_weight': 39.3259775, 'min_split_gain': 0.0222415, 'n_estimators': 10000, 'nthread': 4, 'num_leaves': 10, 'reg_alpha': 0.041545473, 'reg_lambda': 0.0735294, 'subsample': 0.8715623, 'verbose': -1}\n"
     ]
    },
    {
     "name": "stderr",
     "output_type": "stream",
     "text": [
      "Found `n_estimators` in params. Will use it instead of argument\n"
     ]
    },
    {
     "ename": "KeyboardInterrupt",
     "evalue": "",
     "output_type": "error",
     "traceback": [
      "\u001b[0;31m---------------------------------------------------------------------------\u001b[0m",
      "\u001b[0;31mKeyboardInterrupt\u001b[0m                         Traceback (most recent call last)",
      "Cell \u001b[0;32mIn[44], line 13\u001b[0m\n\u001b[1;32m     10\u001b[0m X \u001b[38;5;241m=\u001b[39m pd\u001b[38;5;241m.\u001b[39mDataFrame(X_imputed, columns\u001b[38;5;241m=\u001b[39mX\u001b[38;5;241m.\u001b[39mcolumns)\n\u001b[1;32m     12\u001b[0m X_train, X_test, y_train, y_test \u001b[38;5;241m=\u001b[39m train_test_split(X, y, test_size\u001b[38;5;241m=\u001b[39m\u001b[38;5;241m0.2\u001b[39m, random_state\u001b[38;5;241m=\u001b[39m\u001b[38;5;241m42\u001b[39m)\n\u001b[0;32m---> 13\u001b[0m model \u001b[38;5;241m=\u001b[39m \u001b[43mlightGBMGrid\u001b[49m\u001b[43m(\u001b[49m\u001b[43mX_train\u001b[49m\u001b[43m,\u001b[49m\u001b[43m \u001b[49m\u001b[43mX_test\u001b[49m\u001b[43m,\u001b[49m\u001b[43m \u001b[49m\u001b[43my_train\u001b[49m\u001b[43m,\u001b[49m\u001b[43m \u001b[49m\u001b[43my_test\u001b[49m\u001b[43m,\u001b[49m\u001b[43m \u001b[49m\u001b[43mparam_grid\u001b[49m\u001b[43m,\u001b[49m\u001b[43m \u001b[49m\u001b[38;5;124;43m'\u001b[39;49m\u001b[38;5;124;43mLightGBM\u001b[39;49m\u001b[38;5;124;43m'\u001b[39;49m\u001b[43m,\u001b[49m\u001b[43m \u001b[49m\u001b[38;5;28;43;01mTrue\u001b[39;49;00m\u001b[43m)\u001b[49m\n",
      "Cell \u001b[0;32mIn[39], line 45\u001b[0m, in \u001b[0;36mlightGBMGrid\u001b[0;34m(X_train, X_test, y_train, y_test, param_grid, modelNameX, smoteT)\u001b[0m\n\u001b[1;32m     42\u001b[0m lgb_val \u001b[38;5;241m=\u001b[39m lgb\u001b[38;5;241m.\u001b[39mDataset(X_val_fold, y_val_fold, reference\u001b[38;5;241m=\u001b[39mlgb_train)\n\u001b[1;32m     44\u001b[0m \u001b[38;5;66;03m# Entrainement des modèles sans les stopping rounds\u001b[39;00m\n\u001b[0;32m---> 45\u001b[0m model \u001b[38;5;241m=\u001b[39m \u001b[43mlgb\u001b[49m\u001b[38;5;241;43m.\u001b[39;49m\u001b[43mtrain\u001b[49m\u001b[43m(\u001b[49m\u001b[43mparams\u001b[49m\u001b[43m,\u001b[49m\n\u001b[1;32m     46\u001b[0m \u001b[43m                    \u001b[49m\u001b[43mlgb_train\u001b[49m\u001b[43m,\u001b[49m\n\u001b[1;32m     47\u001b[0m \u001b[43m                    \u001b[49m\u001b[43mnum_boost_round\u001b[49m\u001b[38;5;241;43m=\u001b[39;49m\u001b[38;5;241;43m10000\u001b[39;49m\u001b[43m,\u001b[49m\u001b[43m \u001b[49m\n\u001b[1;32m     48\u001b[0m \u001b[43m                    \u001b[49m\u001b[43mvalid_sets\u001b[49m\u001b[38;5;241;43m=\u001b[39;49m\u001b[43m[\u001b[49m\u001b[43mlgb_val\u001b[49m\u001b[43m]\u001b[49m\u001b[43m)\u001b[49m\n\u001b[1;32m     50\u001b[0m \u001b[38;5;66;03m# Predict du fold\u001b[39;00m\n\u001b[1;32m     51\u001b[0m y_pred \u001b[38;5;241m=\u001b[39m model\u001b[38;5;241m.\u001b[39mpredict(X_val_fold, num_iteration\u001b[38;5;241m=\u001b[39mmodel\u001b[38;5;241m.\u001b[39mbest_iteration)\n",
      "File \u001b[0;32m~/Library/Python/3.9/lib/python/site-packages/lightgbm/engine.py:276\u001b[0m, in \u001b[0;36mtrain\u001b[0;34m(params, train_set, num_boost_round, valid_sets, valid_names, feval, init_model, feature_name, categorical_feature, keep_training_booster, callbacks)\u001b[0m\n\u001b[1;32m    268\u001b[0m \u001b[38;5;28;01mfor\u001b[39;00m cb \u001b[38;5;129;01min\u001b[39;00m callbacks_before_iter:\n\u001b[1;32m    269\u001b[0m     cb(callback\u001b[38;5;241m.\u001b[39mCallbackEnv(model\u001b[38;5;241m=\u001b[39mbooster,\n\u001b[1;32m    270\u001b[0m                             params\u001b[38;5;241m=\u001b[39mparams,\n\u001b[1;32m    271\u001b[0m                             iteration\u001b[38;5;241m=\u001b[39mi,\n\u001b[1;32m    272\u001b[0m                             begin_iteration\u001b[38;5;241m=\u001b[39minit_iteration,\n\u001b[1;32m    273\u001b[0m                             end_iteration\u001b[38;5;241m=\u001b[39minit_iteration \u001b[38;5;241m+\u001b[39m num_boost_round,\n\u001b[1;32m    274\u001b[0m                             evaluation_result_list\u001b[38;5;241m=\u001b[39m\u001b[38;5;28;01mNone\u001b[39;00m))\n\u001b[0;32m--> 276\u001b[0m \u001b[43mbooster\u001b[49m\u001b[38;5;241;43m.\u001b[39;49m\u001b[43mupdate\u001b[49m\u001b[43m(\u001b[49m\u001b[43mfobj\u001b[49m\u001b[38;5;241;43m=\u001b[39;49m\u001b[43mfobj\u001b[49m\u001b[43m)\u001b[49m\n\u001b[1;32m    278\u001b[0m evaluation_result_list: List[_LGBM_BoosterEvalMethodResultType] \u001b[38;5;241m=\u001b[39m []\n\u001b[1;32m    279\u001b[0m \u001b[38;5;66;03m# check evaluation result.\u001b[39;00m\n",
      "File \u001b[0;32m~/Library/Python/3.9/lib/python/site-packages/lightgbm/basic.py:3891\u001b[0m, in \u001b[0;36mBooster.update\u001b[0;34m(self, train_set, fobj)\u001b[0m\n\u001b[1;32m   3889\u001b[0m \u001b[38;5;28;01mif\u001b[39;00m \u001b[38;5;28mself\u001b[39m\u001b[38;5;241m.\u001b[39m__set_objective_to_none:\n\u001b[1;32m   3890\u001b[0m     \u001b[38;5;28;01mraise\u001b[39;00m LightGBMError(\u001b[38;5;124m'\u001b[39m\u001b[38;5;124mCannot update due to null objective function.\u001b[39m\u001b[38;5;124m'\u001b[39m)\n\u001b[0;32m-> 3891\u001b[0m _safe_call(\u001b[43m_LIB\u001b[49m\u001b[38;5;241;43m.\u001b[39;49m\u001b[43mLGBM_BoosterUpdateOneIter\u001b[49m\u001b[43m(\u001b[49m\n\u001b[1;32m   3892\u001b[0m \u001b[43m    \u001b[49m\u001b[38;5;28;43mself\u001b[39;49m\u001b[38;5;241;43m.\u001b[39;49m\u001b[43m_handle\u001b[49m\u001b[43m,\u001b[49m\n\u001b[1;32m   3893\u001b[0m \u001b[43m    \u001b[49m\u001b[43mctypes\u001b[49m\u001b[38;5;241;43m.\u001b[39;49m\u001b[43mbyref\u001b[49m\u001b[43m(\u001b[49m\u001b[43mis_finished\u001b[49m\u001b[43m)\u001b[49m\u001b[43m)\u001b[49m)\n\u001b[1;32m   3894\u001b[0m \u001b[38;5;28mself\u001b[39m\u001b[38;5;241m.\u001b[39m__is_predicted_cur_iter \u001b[38;5;241m=\u001b[39m [\u001b[38;5;28;01mFalse\u001b[39;00m \u001b[38;5;28;01mfor\u001b[39;00m _ \u001b[38;5;129;01min\u001b[39;00m \u001b[38;5;28mrange\u001b[39m(\u001b[38;5;28mself\u001b[39m\u001b[38;5;241m.\u001b[39m__num_dataset)]\n\u001b[1;32m   3895\u001b[0m \u001b[38;5;28;01mreturn\u001b[39;00m is_finished\u001b[38;5;241m.\u001b[39mvalue \u001b[38;5;241m==\u001b[39m \u001b[38;5;241m1\u001b[39m\n",
      "\u001b[0;31mKeyboardInterrupt\u001b[0m: "
     ]
    }
   ],
   "source": [
    "# Définition de X_train et de y_train\n",
    "train_df = df[df['TARGET'].notnull()].copy()\n",
    "y = train_df['TARGET']\n",
    "X = train_df.drop(columns= ['TARGET', 'SK_ID_CURR'], axis = 1)\n",
    "\n",
    "X.columns = [col.replace(' ', '_') for col in X.columns]\n",
    "\n",
    "imputer = SimpleImputer(strategy=\"mean\")\n",
    "X_imputed = imputer.fit_transform(X)\n",
    "X = pd.DataFrame(X_imputed, columns=X.columns)\n",
    "\n",
    "X_train, X_test, y_train, y_test = train_test_split(X, y, test_size=0.2, random_state=42)\n",
    "model = lightGBMGrid(X_train, X_test, y_train, y_test, param_grid, 'LightGBM', True)\n"
   ]
  },
  {
   "cell_type": "markdown",
   "metadata": {},
   "source": [
    "# Sauvegardes des données pré-processées et du modèle entrainé"
   ]
  },
  {
   "cell_type": "code",
   "execution_count": null,
   "metadata": {},
   "outputs": [],
   "source": [
    "model_filename = pathProject+'lgb_model.pkl'\n",
    "\n",
    "# Sauvegarde du modèle entrainé, en mode binaire\n",
    "with open(model_filename, 'wb') as file:\n",
    "    pickle.dump(model, file)"
   ]
  },
  {
   "cell_type": "code",
   "execution_count": null,
   "metadata": {},
   "outputs": [],
   "source": [
    "# Sauvegarde du dataframe, prétraité, pour son utilisation dans d'autres notebooks\n",
    "df_filename = pathProject+'preprocessed_dataframe.csv'\n",
    "\n",
    "df.to_csv(df_filename, index=False)"
   ]
  }
 ],
 "metadata": {
  "kernelspec": {
   "display_name": "Python 3",
   "language": "python",
   "name": "python3"
  },
  "language_info": {
   "codemirror_mode": {
    "name": "ipython",
    "version": 3
   },
   "file_extension": ".py",
   "mimetype": "text/x-python",
   "name": "python",
   "nbconvert_exporter": "python",
   "pygments_lexer": "ipython3",
   "version": "3.9.6"
  }
 },
 "nbformat": 4,
 "nbformat_minor": 2
}
